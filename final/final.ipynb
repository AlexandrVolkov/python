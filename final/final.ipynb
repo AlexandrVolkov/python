{
 "cells": [
  {
   "cell_type": "markdown",
   "metadata": {},
   "source": [
    "**Подключение библиотек и скриптов**"
   ]
  },
  {
   "cell_type": "code",
   "execution_count": 1,
   "metadata": {},
   "outputs": [],
   "source": [
    "import numpy as np\n",
    "import pandas as pd\n",
    "import random\n",
    "\n",
    "from sklearn.model_selection import train_test_split, cross_val_score\n",
    "from sklearn.preprocessing import StandardScaler, MinMaxScaler\n",
    "from sklearn.ensemble import RandomForestRegressor\n",
    "from sklearn.metrics import r2_score as r2\n",
    "from sklearn.model_selection import KFold, GridSearchCV\n",
    "\n",
    "import matplotlib\n",
    "import matplotlib.pyplot as plt\n",
    "import seaborn as sns\n",
    "%matplotlib inline"
   ]
  },
  {
   "cell_type": "code",
   "execution_count": 2,
   "metadata": {},
   "outputs": [],
   "source": [
    "import warnings\n",
    "warnings.filterwarnings('ignore')"
   ]
  },
  {
   "cell_type": "code",
   "execution_count": 3,
   "metadata": {},
   "outputs": [],
   "source": [
    "matplotlib.rcParams.update({'font.size': 14})\n",
    "pd.set_option('precision', 3)\n",
    "pd.set_option('max_columns', 100)"
   ]
  },
  {
   "cell_type": "code",
   "execution_count": 4,
   "metadata": {},
   "outputs": [],
   "source": [
    "def evaluate_preds(train_true_values, train_pred_values, val_true_values, val_pred_values):\n",
    "    \"\"\"\n",
    "    Функция для оценки работы модели\n",
    "    Parameters:\n",
    "    train_true_values - целевая переменная из тренировочной части датасета\n",
    "    train_pred_values - предсказания модели по тренировочной части\n",
    "    val_true_values - целевая переменная из валидационной части датасета\n",
    "    val_pred_values - предсказания модели по валидационной части\n",
    "    Returns:\n",
    "    R2 на тренировочной и валидационной части, \n",
    "    графики зависимости истинных значений от предсказаний\n",
    "    \"\"\"\n",
    "    print(\"Train R2:\\t\" + str(round(r2(train_true_values, train_pred_values), 3)))\n",
    "    print(\"Valid R2:\\t\" + str(round(r2(val_true_values, val_pred_values), 3)))\n",
    "    \n",
    "    plt.figure(figsize=(18,10))\n",
    "    \n",
    "    plt.subplot(121)\n",
    "    sns.scatterplot(x=train_pred_values, y=train_true_values)\n",
    "    plt.xlabel('Predicted values')\n",
    "    plt.ylabel('True values')\n",
    "    plt.title('Train sample prediction')\n",
    "    \n",
    "    plt.subplot(122)\n",
    "    sns.scatterplot(x=val_pred_values, y=val_true_values)\n",
    "    plt.xlabel('Predicted values')\n",
    "    plt.ylabel('True values')\n",
    "    plt.title('Test sample prediction')\n",
    "    plt.show()"
   ]
  },
  {
   "cell_type": "markdown",
   "metadata": {},
   "source": [
    "**Пути к директориям и файлам**"
   ]
  },
  {
   "cell_type": "code",
   "execution_count": 5,
   "metadata": {},
   "outputs": [],
   "source": [
    "TRAIN_DATASET_PATH = 'train.csv'\n",
    "TEST_DATASET_PATH = 'test.csv'"
   ]
  },
  {
   "cell_type": "markdown",
   "metadata": {},
   "source": [
    "### Загрузка данных"
   ]
  },
  {
   "cell_type": "markdown",
   "metadata": {},
   "source": [
    "**Описание датасета**\n",
    "\n",
    "* **Id** - идентификационный номер квартиры\n",
    "* **DistrictId** - идентификационный номер района\n",
    "* **Rooms** - количество комнат\n",
    "* **Square** - площадь\n",
    "* **LifeSquare** - жилая площадь\n",
    "* **KitchenSquare** - площадь кухни\n",
    "* **Floor** - этаж\n",
    "* **HouseFloor** - количество этажей в доме\n",
    "* **HouseYear** - год постройки дома\n",
    "* **Ecology_1, Ecology_2, Ecology_3** - экологические показатели местности\n",
    "* **Social_1, Social_2, Social_3** - социальные показатели местности\n",
    "* **Healthcare_1, Helthcare_2** - показатели местности, связанные с охраной здоровья\n",
    "* **Shops_1, Shops_2** - показатели, связанные с наличием магазинов, торговых центров\n",
    "* **Price** - цена квартиры"
   ]
  },
  {
   "cell_type": "code",
   "execution_count": 6,
   "metadata": {},
   "outputs": [
    {
     "data": {
      "text/html": [
       "<div>\n",
       "<style scoped>\n",
       "    .dataframe tbody tr th:only-of-type {\n",
       "        vertical-align: middle;\n",
       "    }\n",
       "\n",
       "    .dataframe tbody tr th {\n",
       "        vertical-align: top;\n",
       "    }\n",
       "\n",
       "    .dataframe thead th {\n",
       "        text-align: right;\n",
       "    }\n",
       "</style>\n",
       "<table border=\"1\" class=\"dataframe\">\n",
       "  <thead>\n",
       "    <tr style=\"text-align: right;\">\n",
       "      <th></th>\n",
       "      <th>Id</th>\n",
       "      <th>DistrictId</th>\n",
       "      <th>Rooms</th>\n",
       "      <th>Square</th>\n",
       "      <th>LifeSquare</th>\n",
       "      <th>KitchenSquare</th>\n",
       "      <th>Floor</th>\n",
       "      <th>HouseFloor</th>\n",
       "      <th>HouseYear</th>\n",
       "      <th>Ecology_1</th>\n",
       "      <th>Ecology_2</th>\n",
       "      <th>Ecology_3</th>\n",
       "      <th>Social_1</th>\n",
       "      <th>Social_2</th>\n",
       "      <th>Social_3</th>\n",
       "      <th>Healthcare_1</th>\n",
       "      <th>Helthcare_2</th>\n",
       "      <th>Shops_1</th>\n",
       "      <th>Shops_2</th>\n",
       "      <th>Price</th>\n",
       "    </tr>\n",
       "  </thead>\n",
       "  <tbody>\n",
       "    <tr>\n",
       "      <td>9995</td>\n",
       "      <td>77</td>\n",
       "      <td>32</td>\n",
       "      <td>2.0</td>\n",
       "      <td>50.402</td>\n",
       "      <td>30.476</td>\n",
       "      <td>5.0</td>\n",
       "      <td>6</td>\n",
       "      <td>5.0</td>\n",
       "      <td>1968</td>\n",
       "      <td>0.136</td>\n",
       "      <td>B</td>\n",
       "      <td>B</td>\n",
       "      <td>46</td>\n",
       "      <td>7960</td>\n",
       "      <td>6</td>\n",
       "      <td>350.0</td>\n",
       "      <td>3</td>\n",
       "      <td>11</td>\n",
       "      <td>B</td>\n",
       "      <td>196684.316</td>\n",
       "    </tr>\n",
       "    <tr>\n",
       "      <td>9996</td>\n",
       "      <td>6159</td>\n",
       "      <td>18</td>\n",
       "      <td>1.0</td>\n",
       "      <td>41.522</td>\n",
       "      <td>20.539</td>\n",
       "      <td>9.0</td>\n",
       "      <td>13</td>\n",
       "      <td>13.0</td>\n",
       "      <td>2000</td>\n",
       "      <td>0.000</td>\n",
       "      <td>B</td>\n",
       "      <td>B</td>\n",
       "      <td>30</td>\n",
       "      <td>5562</td>\n",
       "      <td>0</td>\n",
       "      <td>NaN</td>\n",
       "      <td>0</td>\n",
       "      <td>5</td>\n",
       "      <td>A</td>\n",
       "      <td>189050.290</td>\n",
       "    </tr>\n",
       "    <tr>\n",
       "      <td>9997</td>\n",
       "      <td>5123</td>\n",
       "      <td>27</td>\n",
       "      <td>1.0</td>\n",
       "      <td>47.939</td>\n",
       "      <td>NaN</td>\n",
       "      <td>1.0</td>\n",
       "      <td>12</td>\n",
       "      <td>16.0</td>\n",
       "      <td>2015</td>\n",
       "      <td>0.072</td>\n",
       "      <td>B</td>\n",
       "      <td>B</td>\n",
       "      <td>2</td>\n",
       "      <td>629</td>\n",
       "      <td>1</td>\n",
       "      <td>NaN</td>\n",
       "      <td>0</td>\n",
       "      <td>0</td>\n",
       "      <td>A</td>\n",
       "      <td>159143.805</td>\n",
       "    </tr>\n",
       "    <tr>\n",
       "      <td>9998</td>\n",
       "      <td>5400</td>\n",
       "      <td>75</td>\n",
       "      <td>2.0</td>\n",
       "      <td>43.603</td>\n",
       "      <td>33.840</td>\n",
       "      <td>8.0</td>\n",
       "      <td>1</td>\n",
       "      <td>5.0</td>\n",
       "      <td>1961</td>\n",
       "      <td>0.307</td>\n",
       "      <td>B</td>\n",
       "      <td>A</td>\n",
       "      <td>30</td>\n",
       "      <td>5048</td>\n",
       "      <td>9</td>\n",
       "      <td>325.0</td>\n",
       "      <td>2</td>\n",
       "      <td>5</td>\n",
       "      <td>B</td>\n",
       "      <td>181595.340</td>\n",
       "    </tr>\n",
       "    <tr>\n",
       "      <td>9999</td>\n",
       "      <td>6306</td>\n",
       "      <td>128</td>\n",
       "      <td>1.0</td>\n",
       "      <td>38.667</td>\n",
       "      <td>21.158</td>\n",
       "      <td>8.0</td>\n",
       "      <td>7</td>\n",
       "      <td>17.0</td>\n",
       "      <td>1990</td>\n",
       "      <td>0.000</td>\n",
       "      <td>B</td>\n",
       "      <td>B</td>\n",
       "      <td>27</td>\n",
       "      <td>4798</td>\n",
       "      <td>0</td>\n",
       "      <td>30.0</td>\n",
       "      <td>2</td>\n",
       "      <td>8</td>\n",
       "      <td>B</td>\n",
       "      <td>218714.078</td>\n",
       "    </tr>\n",
       "  </tbody>\n",
       "</table>\n",
       "</div>"
      ],
      "text/plain": [
       "        Id  DistrictId  Rooms  Square  LifeSquare  KitchenSquare  Floor  \\\n",
       "9995    77          32    2.0  50.402      30.476            5.0      6   \n",
       "9996  6159          18    1.0  41.522      20.539            9.0     13   \n",
       "9997  5123          27    1.0  47.939         NaN            1.0     12   \n",
       "9998  5400          75    2.0  43.603      33.840            8.0      1   \n",
       "9999  6306         128    1.0  38.667      21.158            8.0      7   \n",
       "\n",
       "      HouseFloor  HouseYear  Ecology_1 Ecology_2 Ecology_3  Social_1  \\\n",
       "9995         5.0       1968      0.136         B         B        46   \n",
       "9996        13.0       2000      0.000         B         B        30   \n",
       "9997        16.0       2015      0.072         B         B         2   \n",
       "9998         5.0       1961      0.307         B         A        30   \n",
       "9999        17.0       1990      0.000         B         B        27   \n",
       "\n",
       "      Social_2  Social_3  Healthcare_1  Helthcare_2  Shops_1 Shops_2  \\\n",
       "9995      7960         6         350.0            3       11       B   \n",
       "9996      5562         0           NaN            0        5       A   \n",
       "9997       629         1           NaN            0        0       A   \n",
       "9998      5048         9         325.0            2        5       B   \n",
       "9999      4798         0          30.0            2        8       B   \n",
       "\n",
       "           Price  \n",
       "9995  196684.316  \n",
       "9996  189050.290  \n",
       "9997  159143.805  \n",
       "9998  181595.340  \n",
       "9999  218714.078  "
      ]
     },
     "metadata": {},
     "output_type": "display_data"
    },
    {
     "name": "stdout",
     "output_type": "stream",
     "text": [
      "(10000, 20)\n"
     ]
    }
   ],
   "source": [
    "train_df = pd.read_csv(TRAIN_DATASET_PATH)\n",
    "display(train_df.tail())\n",
    "print(train_df.shape)"
   ]
  },
  {
   "cell_type": "code",
   "execution_count": 7,
   "metadata": {},
   "outputs": [
    {
     "data": {
      "text/html": [
       "<div>\n",
       "<style scoped>\n",
       "    .dataframe tbody tr th:only-of-type {\n",
       "        vertical-align: middle;\n",
       "    }\n",
       "\n",
       "    .dataframe tbody tr th {\n",
       "        vertical-align: top;\n",
       "    }\n",
       "\n",
       "    .dataframe thead th {\n",
       "        text-align: right;\n",
       "    }\n",
       "</style>\n",
       "<table border=\"1\" class=\"dataframe\">\n",
       "  <thead>\n",
       "    <tr style=\"text-align: right;\">\n",
       "      <th></th>\n",
       "      <th>Id</th>\n",
       "      <th>DistrictId</th>\n",
       "      <th>Rooms</th>\n",
       "      <th>Square</th>\n",
       "      <th>LifeSquare</th>\n",
       "      <th>KitchenSquare</th>\n",
       "      <th>Floor</th>\n",
       "      <th>HouseFloor</th>\n",
       "      <th>HouseYear</th>\n",
       "      <th>Ecology_1</th>\n",
       "      <th>Ecology_2</th>\n",
       "      <th>Ecology_3</th>\n",
       "      <th>Social_1</th>\n",
       "      <th>Social_2</th>\n",
       "      <th>Social_3</th>\n",
       "      <th>Healthcare_1</th>\n",
       "      <th>Helthcare_2</th>\n",
       "      <th>Shops_1</th>\n",
       "      <th>Shops_2</th>\n",
       "    </tr>\n",
       "  </thead>\n",
       "  <tbody>\n",
       "    <tr>\n",
       "      <td>4995</td>\n",
       "      <td>8180</td>\n",
       "      <td>11</td>\n",
       "      <td>3.0</td>\n",
       "      <td>67.134</td>\n",
       "      <td>50.810</td>\n",
       "      <td>6.0</td>\n",
       "      <td>5</td>\n",
       "      <td>9.0</td>\n",
       "      <td>1973</td>\n",
       "      <td>1.697e-04</td>\n",
       "      <td>B</td>\n",
       "      <td>B</td>\n",
       "      <td>36</td>\n",
       "      <td>5992</td>\n",
       "      <td>0</td>\n",
       "      <td>NaN</td>\n",
       "      <td>1</td>\n",
       "      <td>1</td>\n",
       "      <td>B</td>\n",
       "    </tr>\n",
       "    <tr>\n",
       "      <td>4996</td>\n",
       "      <td>4695</td>\n",
       "      <td>1</td>\n",
       "      <td>1.0</td>\n",
       "      <td>40.198</td>\n",
       "      <td>21.807</td>\n",
       "      <td>10.0</td>\n",
       "      <td>12</td>\n",
       "      <td>17.0</td>\n",
       "      <td>2017</td>\n",
       "      <td>7.122e-03</td>\n",
       "      <td>B</td>\n",
       "      <td>B</td>\n",
       "      <td>1</td>\n",
       "      <td>264</td>\n",
       "      <td>0</td>\n",
       "      <td>NaN</td>\n",
       "      <td>0</td>\n",
       "      <td>1</td>\n",
       "      <td>B</td>\n",
       "    </tr>\n",
       "    <tr>\n",
       "      <td>4997</td>\n",
       "      <td>5783</td>\n",
       "      <td>12</td>\n",
       "      <td>3.0</td>\n",
       "      <td>77.842</td>\n",
       "      <td>48.283</td>\n",
       "      <td>9.0</td>\n",
       "      <td>23</td>\n",
       "      <td>22.0</td>\n",
       "      <td>1989</td>\n",
       "      <td>9.080e-02</td>\n",
       "      <td>B</td>\n",
       "      <td>B</td>\n",
       "      <td>74</td>\n",
       "      <td>19083</td>\n",
       "      <td>2</td>\n",
       "      <td>NaN</td>\n",
       "      <td>5</td>\n",
       "      <td>15</td>\n",
       "      <td>B</td>\n",
       "    </tr>\n",
       "    <tr>\n",
       "      <td>4998</td>\n",
       "      <td>4780</td>\n",
       "      <td>62</td>\n",
       "      <td>2.0</td>\n",
       "      <td>81.305</td>\n",
       "      <td>NaN</td>\n",
       "      <td>0.0</td>\n",
       "      <td>4</td>\n",
       "      <td>0.0</td>\n",
       "      <td>1977</td>\n",
       "      <td>7.216e-02</td>\n",
       "      <td>B</td>\n",
       "      <td>B</td>\n",
       "      <td>2</td>\n",
       "      <td>629</td>\n",
       "      <td>1</td>\n",
       "      <td>NaN</td>\n",
       "      <td>0</td>\n",
       "      <td>0</td>\n",
       "      <td>A</td>\n",
       "    </tr>\n",
       "    <tr>\n",
       "      <td>4999</td>\n",
       "      <td>12504</td>\n",
       "      <td>30</td>\n",
       "      <td>2.0</td>\n",
       "      <td>60.556</td>\n",
       "      <td>NaN</td>\n",
       "      <td>1.0</td>\n",
       "      <td>10</td>\n",
       "      <td>17.0</td>\n",
       "      <td>1977</td>\n",
       "      <td>7.815e-05</td>\n",
       "      <td>B</td>\n",
       "      <td>B</td>\n",
       "      <td>22</td>\n",
       "      <td>6398</td>\n",
       "      <td>141</td>\n",
       "      <td>1046.0</td>\n",
       "      <td>3</td>\n",
       "      <td>23</td>\n",
       "      <td>B</td>\n",
       "    </tr>\n",
       "  </tbody>\n",
       "</table>\n",
       "</div>"
      ],
      "text/plain": [
       "         Id  DistrictId  Rooms  Square  LifeSquare  KitchenSquare  Floor  \\\n",
       "4995   8180          11    3.0  67.134      50.810            6.0      5   \n",
       "4996   4695           1    1.0  40.198      21.807           10.0     12   \n",
       "4997   5783          12    3.0  77.842      48.283            9.0     23   \n",
       "4998   4780          62    2.0  81.305         NaN            0.0      4   \n",
       "4999  12504          30    2.0  60.556         NaN            1.0     10   \n",
       "\n",
       "      HouseFloor  HouseYear  Ecology_1 Ecology_2 Ecology_3  Social_1  \\\n",
       "4995         9.0       1973  1.697e-04         B         B        36   \n",
       "4996        17.0       2017  7.122e-03         B         B         1   \n",
       "4997        22.0       1989  9.080e-02         B         B        74   \n",
       "4998         0.0       1977  7.216e-02         B         B         2   \n",
       "4999        17.0       1977  7.815e-05         B         B        22   \n",
       "\n",
       "      Social_2  Social_3  Healthcare_1  Helthcare_2  Shops_1 Shops_2  \n",
       "4995      5992         0           NaN            1        1       B  \n",
       "4996       264         0           NaN            0        1       B  \n",
       "4997     19083         2           NaN            5       15       B  \n",
       "4998       629         1           NaN            0        0       A  \n",
       "4999      6398       141        1046.0            3       23       B  "
      ]
     },
     "metadata": {},
     "output_type": "display_data"
    },
    {
     "name": "stdout",
     "output_type": "stream",
     "text": [
      "(5000, 19)\n"
     ]
    }
   ],
   "source": [
    "test_df = pd.read_csv(TEST_DATASET_PATH)\n",
    "display(test_df.tail())\n",
    "print(test_df.shape)"
   ]
  },
  {
   "cell_type": "code",
   "execution_count": 8,
   "metadata": {},
   "outputs": [
    {
     "data": {
      "text/plain": [
       "True"
      ]
     },
     "execution_count": 8,
     "metadata": {},
     "output_type": "execute_result"
    }
   ],
   "source": [
    "train_df.shape[1]-1 == test_df.shape[1]"
   ]
  },
  {
   "cell_type": "markdown",
   "metadata": {},
   "source": [
    "### Приведение типов"
   ]
  },
  {
   "cell_type": "code",
   "execution_count": 9,
   "metadata": {},
   "outputs": [
    {
     "data": {
      "text/plain": [
       "Id                 int64\n",
       "DistrictId         int64\n",
       "Rooms            float64\n",
       "Square           float64\n",
       "LifeSquare       float64\n",
       "KitchenSquare    float64\n",
       "Floor              int64\n",
       "HouseFloor       float64\n",
       "HouseYear          int64\n",
       "Ecology_1        float64\n",
       "Ecology_2         object\n",
       "Ecology_3         object\n",
       "Social_1           int64\n",
       "Social_2           int64\n",
       "Social_3           int64\n",
       "Healthcare_1     float64\n",
       "Helthcare_2        int64\n",
       "Shops_1            int64\n",
       "Shops_2           object\n",
       "Price            float64\n",
       "dtype: object"
      ]
     },
     "execution_count": 9,
     "metadata": {},
     "output_type": "execute_result"
    }
   ],
   "source": [
    "train_df.dtypes"
   ]
  },
  {
   "cell_type": "code",
   "execution_count": 10,
   "metadata": {},
   "outputs": [
    {
     "data": {
      "text/plain": [
       "Id                 int64\n",
       "DistrictId         int64\n",
       "Rooms            float64\n",
       "Square           float64\n",
       "LifeSquare       float64\n",
       "KitchenSquare    float64\n",
       "Floor              int64\n",
       "HouseFloor       float64\n",
       "HouseYear          int64\n",
       "Ecology_1        float64\n",
       "Ecology_2         object\n",
       "Ecology_3         object\n",
       "Social_1           int64\n",
       "Social_2           int64\n",
       "Social_3           int64\n",
       "Healthcare_1     float64\n",
       "Helthcare_2        int64\n",
       "Shops_1            int64\n",
       "Shops_2           object\n",
       "dtype: object"
      ]
     },
     "execution_count": 10,
     "metadata": {},
     "output_type": "execute_result"
    }
   ],
   "source": [
    "test_df.dtypes"
   ]
  },
  {
   "cell_type": "code",
   "execution_count": 11,
   "metadata": {},
   "outputs": [],
   "source": [
    "train_df['Id'] = train_df['Id'].astype(str)\n",
    "train_df['DistrictId'] = train_df['DistrictId'].astype(str)"
   ]
  },
  {
   "cell_type": "code",
   "execution_count": 12,
   "metadata": {},
   "outputs": [],
   "source": [
    "test_df['Id'] = test_df['Id'].astype(str)\n",
    "test_df['DistrictId'] = test_df['DistrictId'].astype(str)"
   ]
  },
  {
   "cell_type": "markdown",
   "metadata": {},
   "source": [
    "### Обзор данных"
   ]
  },
  {
   "cell_type": "markdown",
   "metadata": {},
   "source": [
    "**Целевая переменная**"
   ]
  },
  {
   "cell_type": "code",
   "execution_count": 13,
   "metadata": {},
   "outputs": [
    {
     "data": {
      "image/png": "[encoded data removed]",
      "text/plain": [
       "<Figure size 1152x576 with 1 Axes>"
      ]
     },
     "metadata": {
      "needs_background": "light"
     },
     "output_type": "display_data"
    }
   ],
   "source": [
    "plt.figure(figsize = (16, 8))\n",
    "\n",
    "train_df['Price'].hist(bins=30)\n",
    "plt.ylabel('Count')\n",
    "plt.xlabel('Price')\n",
    "plt.title('Target distribution')\n",
    "plt.show()"
   ]
  },
  {
   "cell_type": "markdown",
   "metadata": {},
   "source": [
    "**Количественные переменные**"
   ]
  },
  {
   "cell_type": "code",
   "execution_count": 14,
   "metadata": {},
   "outputs": [
    {
     "data": {
      "text/html": [
       "<div>\n",
       "<style scoped>\n",
       "    .dataframe tbody tr th:only-of-type {\n",
       "        vertical-align: middle;\n",
       "    }\n",
       "\n",
       "    .dataframe tbody tr th {\n",
       "        vertical-align: top;\n",
       "    }\n",
       "\n",
       "    .dataframe thead th {\n",
       "        text-align: right;\n",
       "    }\n",
       "</style>\n",
       "<table border=\"1\" class=\"dataframe\">\n",
       "  <thead>\n",
       "    <tr style=\"text-align: right;\">\n",
       "      <th></th>\n",
       "      <th>count</th>\n",
       "      <th>mean</th>\n",
       "      <th>std</th>\n",
       "      <th>min</th>\n",
       "      <th>25%</th>\n",
       "      <th>50%</th>\n",
       "      <th>75%</th>\n",
       "      <th>max</th>\n",
       "    </tr>\n",
       "  </thead>\n",
       "  <tbody>\n",
       "    <tr>\n",
       "      <td>Rooms</td>\n",
       "      <td>10000.0</td>\n",
       "      <td>1.891</td>\n",
       "      <td>0.840</td>\n",
       "      <td>0.000</td>\n",
       "      <td>1.000</td>\n",
       "      <td>2.000</td>\n",
       "      <td>2.000</td>\n",
       "      <td>1.900e+01</td>\n",
       "    </tr>\n",
       "    <tr>\n",
       "      <td>Square</td>\n",
       "      <td>10000.0</td>\n",
       "      <td>56.316</td>\n",
       "      <td>21.059</td>\n",
       "      <td>1.137</td>\n",
       "      <td>41.775</td>\n",
       "      <td>52.513</td>\n",
       "      <td>65.901</td>\n",
       "      <td>6.411e+02</td>\n",
       "    </tr>\n",
       "    <tr>\n",
       "      <td>LifeSquare</td>\n",
       "      <td>7887.0</td>\n",
       "      <td>37.200</td>\n",
       "      <td>86.241</td>\n",
       "      <td>0.371</td>\n",
       "      <td>22.770</td>\n",
       "      <td>32.781</td>\n",
       "      <td>45.129</td>\n",
       "      <td>7.481e+03</td>\n",
       "    </tr>\n",
       "    <tr>\n",
       "      <td>KitchenSquare</td>\n",
       "      <td>10000.0</td>\n",
       "      <td>6.273</td>\n",
       "      <td>28.561</td>\n",
       "      <td>0.000</td>\n",
       "      <td>1.000</td>\n",
       "      <td>6.000</td>\n",
       "      <td>9.000</td>\n",
       "      <td>2.014e+03</td>\n",
       "    </tr>\n",
       "    <tr>\n",
       "      <td>Floor</td>\n",
       "      <td>10000.0</td>\n",
       "      <td>8.527</td>\n",
       "      <td>5.241</td>\n",
       "      <td>1.000</td>\n",
       "      <td>4.000</td>\n",
       "      <td>7.000</td>\n",
       "      <td>12.000</td>\n",
       "      <td>4.200e+01</td>\n",
       "    </tr>\n",
       "    <tr>\n",
       "      <td>HouseFloor</td>\n",
       "      <td>10000.0</td>\n",
       "      <td>12.609</td>\n",
       "      <td>6.776</td>\n",
       "      <td>0.000</td>\n",
       "      <td>9.000</td>\n",
       "      <td>13.000</td>\n",
       "      <td>17.000</td>\n",
       "      <td>1.170e+02</td>\n",
       "    </tr>\n",
       "    <tr>\n",
       "      <td>HouseYear</td>\n",
       "      <td>10000.0</td>\n",
       "      <td>3990.166</td>\n",
       "      <td>200500.261</td>\n",
       "      <td>1910.000</td>\n",
       "      <td>1974.000</td>\n",
       "      <td>1977.000</td>\n",
       "      <td>2001.000</td>\n",
       "      <td>2.005e+07</td>\n",
       "    </tr>\n",
       "    <tr>\n",
       "      <td>Ecology_1</td>\n",
       "      <td>10000.0</td>\n",
       "      <td>0.119</td>\n",
       "      <td>0.119</td>\n",
       "      <td>0.000</td>\n",
       "      <td>0.018</td>\n",
       "      <td>0.075</td>\n",
       "      <td>0.196</td>\n",
       "      <td>5.219e-01</td>\n",
       "    </tr>\n",
       "    <tr>\n",
       "      <td>Social_1</td>\n",
       "      <td>10000.0</td>\n",
       "      <td>24.687</td>\n",
       "      <td>17.533</td>\n",
       "      <td>0.000</td>\n",
       "      <td>6.000</td>\n",
       "      <td>25.000</td>\n",
       "      <td>36.000</td>\n",
       "      <td>7.400e+01</td>\n",
       "    </tr>\n",
       "    <tr>\n",
       "      <td>Social_2</td>\n",
       "      <td>10000.0</td>\n",
       "      <td>5352.157</td>\n",
       "      <td>4006.800</td>\n",
       "      <td>168.000</td>\n",
       "      <td>1564.000</td>\n",
       "      <td>5285.000</td>\n",
       "      <td>7227.000</td>\n",
       "      <td>1.908e+04</td>\n",
       "    </tr>\n",
       "    <tr>\n",
       "      <td>Social_3</td>\n",
       "      <td>10000.0</td>\n",
       "      <td>8.039</td>\n",
       "      <td>23.832</td>\n",
       "      <td>0.000</td>\n",
       "      <td>0.000</td>\n",
       "      <td>2.000</td>\n",
       "      <td>5.000</td>\n",
       "      <td>1.410e+02</td>\n",
       "    </tr>\n",
       "    <tr>\n",
       "      <td>Healthcare_1</td>\n",
       "      <td>5202.0</td>\n",
       "      <td>1142.904</td>\n",
       "      <td>1021.517</td>\n",
       "      <td>0.000</td>\n",
       "      <td>350.000</td>\n",
       "      <td>900.000</td>\n",
       "      <td>1548.000</td>\n",
       "      <td>4.849e+03</td>\n",
       "    </tr>\n",
       "    <tr>\n",
       "      <td>Helthcare_2</td>\n",
       "      <td>10000.0</td>\n",
       "      <td>1.319</td>\n",
       "      <td>1.494</td>\n",
       "      <td>0.000</td>\n",
       "      <td>0.000</td>\n",
       "      <td>1.000</td>\n",
       "      <td>2.000</td>\n",
       "      <td>6.000e+00</td>\n",
       "    </tr>\n",
       "    <tr>\n",
       "      <td>Shops_1</td>\n",
       "      <td>10000.0</td>\n",
       "      <td>4.231</td>\n",
       "      <td>4.806</td>\n",
       "      <td>0.000</td>\n",
       "      <td>1.000</td>\n",
       "      <td>3.000</td>\n",
       "      <td>6.000</td>\n",
       "      <td>2.300e+01</td>\n",
       "    </tr>\n",
       "    <tr>\n",
       "      <td>Price</td>\n",
       "      <td>10000.0</td>\n",
       "      <td>214138.857</td>\n",
       "      <td>92872.294</td>\n",
       "      <td>59174.778</td>\n",
       "      <td>153872.634</td>\n",
       "      <td>192269.645</td>\n",
       "      <td>249135.462</td>\n",
       "      <td>6.332e+05</td>\n",
       "    </tr>\n",
       "  </tbody>\n",
       "</table>\n",
       "</div>"
      ],
      "text/plain": [
       "                 count        mean         std        min         25%  \\\n",
       "Rooms          10000.0       1.891       0.840      0.000       1.000   \n",
       "Square         10000.0      56.316      21.059      1.137      41.775   \n",
       "LifeSquare      7887.0      37.200      86.241      0.371      22.770   \n",
       "KitchenSquare  10000.0       6.273      28.561      0.000       1.000   \n",
       "Floor          10000.0       8.527       5.241      1.000       4.000   \n",
       "HouseFloor     10000.0      12.609       6.776      0.000       9.000   \n",
       "HouseYear      10000.0    3990.166  200500.261   1910.000    1974.000   \n",
       "Ecology_1      10000.0       0.119       0.119      0.000       0.018   \n",
       "Social_1       10000.0      24.687      17.533      0.000       6.000   \n",
       "Social_2       10000.0    5352.157    4006.800    168.000    1564.000   \n",
       "Social_3       10000.0       8.039      23.832      0.000       0.000   \n",
       "Healthcare_1    5202.0    1142.904    1021.517      0.000     350.000   \n",
       "Helthcare_2    10000.0       1.319       1.494      0.000       0.000   \n",
       "Shops_1        10000.0       4.231       4.806      0.000       1.000   \n",
       "Price          10000.0  214138.857   92872.294  59174.778  153872.634   \n",
       "\n",
       "                      50%         75%        max  \n",
       "Rooms               2.000       2.000  1.900e+01  \n",
       "Square             52.513      65.901  6.411e+02  \n",
       "LifeSquare         32.781      45.129  7.481e+03  \n",
       "KitchenSquare       6.000       9.000  2.014e+03  \n",
       "Floor               7.000      12.000  4.200e+01  \n",
       "HouseFloor         13.000      17.000  1.170e+02  \n",
       "HouseYear        1977.000    2001.000  2.005e+07  \n",
       "Ecology_1           0.075       0.196  5.219e-01  \n",
       "Social_1           25.000      36.000  7.400e+01  \n",
       "Social_2         5285.000    7227.000  1.908e+04  \n",
       "Social_3            2.000       5.000  1.410e+02  \n",
       "Healthcare_1      900.000    1548.000  4.849e+03  \n",
       "Helthcare_2         1.000       2.000  6.000e+00  \n",
       "Shops_1             3.000       6.000  2.300e+01  \n",
       "Price          192269.645  249135.462  6.332e+05  "
      ]
     },
     "execution_count": 14,
     "metadata": {},
     "output_type": "execute_result"
    }
   ],
   "source": [
    "train_df.describe().T"
   ]
  },
  {
   "cell_type": "markdown",
   "metadata": {},
   "source": [
    "**Категориальные переменные**"
   ]
  },
  {
   "cell_type": "code",
   "execution_count": 15,
   "metadata": {},
   "outputs": [
    {
     "data": {
      "text/plain": [
       "['Id', 'DistrictId', 'Ecology_2', 'Ecology_3', 'Shops_2']"
      ]
     },
     "execution_count": 15,
     "metadata": {},
     "output_type": "execute_result"
    }
   ],
   "source": [
    "cat_colnames = train_df.select_dtypes(include='object').columns.tolist()\n",
    "cat_colnames"
   ]
  },
  {
   "cell_type": "code",
   "execution_count": 16,
   "metadata": {
    "scrolled": false
   },
   "outputs": [
    {
     "name": "stdout",
     "output_type": "stream",
     "text": [
      "Ecology_2\n",
      "\n",
      "B    9903\n",
      "A      97\n",
      "Name: Ecology_2, dtype: int64\n",
      "****************************************************************************************************\n",
      "\n",
      "Ecology_3\n",
      "\n",
      "B    9725\n",
      "A     275\n",
      "Name: Ecology_3, dtype: int64\n",
      "****************************************************************************************************\n",
      "\n",
      "Shops_2\n",
      "\n",
      "B    9175\n",
      "A     825\n",
      "Name: Shops_2, dtype: int64\n",
      "****************************************************************************************************\n",
      "\n"
     ]
    }
   ],
   "source": [
    "for cat_colname in cat_colnames[2:]:\n",
    "    print(str(cat_colname) + '\\n\\n' + str(train_df[cat_colname].value_counts()) + '\\n' + '*' * 100 + '\\n')"
   ]
  },
  {
   "cell_type": "markdown",
   "metadata": {},
   "source": [
    "### Обработка выбросов"
   ]
  },
  {
   "cell_type": "markdown",
   "metadata": {},
   "source": [
    "**Rooms**"
   ]
  },
  {
   "cell_type": "code",
   "execution_count": 17,
   "metadata": {},
   "outputs": [
    {
     "data": {
      "text/plain": [
       "2.0     3880\n",
       "1.0     3705\n",
       "3.0     2235\n",
       "4.0      150\n",
       "5.0       18\n",
       "0.0        8\n",
       "10.0       2\n",
       "19.0       1\n",
       "6.0        1\n",
       "Name: Rooms, dtype: int64"
      ]
     },
     "execution_count": 17,
     "metadata": {},
     "output_type": "execute_result"
    }
   ],
   "source": [
    "train_df['Rooms'].value_counts()"
   ]
  },
  {
   "cell_type": "code",
   "execution_count": 18,
   "metadata": {},
   "outputs": [
    {
     "data": {
      "text/plain": [
       "2.0     2030\n",
       "1.0     1769\n",
       "3.0     1099\n",
       "4.0       90\n",
       "5.0        7\n",
       "0.0        2\n",
       "6.0        2\n",
       "17.0       1\n",
       "Name: Rooms, dtype: int64"
      ]
     },
     "execution_count": 18,
     "metadata": {},
     "output_type": "execute_result"
    }
   ],
   "source": [
    "test_df['Rooms'].value_counts()"
   ]
  },
  {
   "cell_type": "code",
   "execution_count": 19,
   "metadata": {},
   "outputs": [],
   "source": [
    "train_df.loc[train_df['Rooms'].isin([0, 10, 19]), 'Rooms'] = train_df['Rooms'].median()"
   ]
  },
  {
   "cell_type": "code",
   "execution_count": 20,
   "metadata": {},
   "outputs": [],
   "source": [
    "test_df.loc[test_df['Rooms'].isin([0, 17]), 'Rooms'] = test_df['Rooms'].median()"
   ]
  },
  {
   "cell_type": "markdown",
   "metadata": {},
   "source": [
    "**Square, LifeSquare, KitchenSquare**"
   ]
  },
  {
   "cell_type": "code",
   "execution_count": 21,
   "metadata": {},
   "outputs": [
    {
     "data": {
      "text/html": [
       "<div>\n",
       "<style scoped>\n",
       "    .dataframe tbody tr th:only-of-type {\n",
       "        vertical-align: middle;\n",
       "    }\n",
       "\n",
       "    .dataframe tbody tr th {\n",
       "        vertical-align: top;\n",
       "    }\n",
       "\n",
       "    .dataframe thead th {\n",
       "        text-align: right;\n",
       "    }\n",
       "</style>\n",
       "<table border=\"1\" class=\"dataframe\">\n",
       "  <thead>\n",
       "    <tr style=\"text-align: right;\">\n",
       "      <th></th>\n",
       "      <th>Rooms</th>\n",
       "      <th>Square</th>\n",
       "      <th>LifeSquare</th>\n",
       "      <th>KitchenSquare</th>\n",
       "      <th>Floor</th>\n",
       "      <th>HouseFloor</th>\n",
       "      <th>HouseYear</th>\n",
       "      <th>Ecology_1</th>\n",
       "      <th>Social_1</th>\n",
       "      <th>Social_2</th>\n",
       "      <th>Social_3</th>\n",
       "      <th>Healthcare_1</th>\n",
       "      <th>Helthcare_2</th>\n",
       "      <th>Shops_1</th>\n",
       "      <th>Price</th>\n",
       "    </tr>\n",
       "  </thead>\n",
       "  <tbody>\n",
       "    <tr>\n",
       "      <td>count</td>\n",
       "      <td>10000.000</td>\n",
       "      <td>10000.000</td>\n",
       "      <td>7887.000</td>\n",
       "      <td>10000.000</td>\n",
       "      <td>10000.000</td>\n",
       "      <td>10000.000</td>\n",
       "      <td>1.000e+04</td>\n",
       "      <td>10000.000</td>\n",
       "      <td>10000.000</td>\n",
       "      <td>10000.000</td>\n",
       "      <td>10000.000</td>\n",
       "      <td>5202.000</td>\n",
       "      <td>10000.000</td>\n",
       "      <td>10000.000</td>\n",
       "      <td>10000.000</td>\n",
       "    </tr>\n",
       "    <tr>\n",
       "      <td>mean</td>\n",
       "      <td>1.889</td>\n",
       "      <td>56.316</td>\n",
       "      <td>37.200</td>\n",
       "      <td>6.273</td>\n",
       "      <td>8.527</td>\n",
       "      <td>12.609</td>\n",
       "      <td>3.990e+03</td>\n",
       "      <td>0.119</td>\n",
       "      <td>24.687</td>\n",
       "      <td>5352.157</td>\n",
       "      <td>8.039</td>\n",
       "      <td>1142.904</td>\n",
       "      <td>1.319</td>\n",
       "      <td>4.231</td>\n",
       "      <td>214138.857</td>\n",
       "    </tr>\n",
       "    <tr>\n",
       "      <td>std</td>\n",
       "      <td>0.812</td>\n",
       "      <td>21.059</td>\n",
       "      <td>86.241</td>\n",
       "      <td>28.561</td>\n",
       "      <td>5.241</td>\n",
       "      <td>6.776</td>\n",
       "      <td>2.005e+05</td>\n",
       "      <td>0.119</td>\n",
       "      <td>17.533</td>\n",
       "      <td>4006.800</td>\n",
       "      <td>23.832</td>\n",
       "      <td>1021.517</td>\n",
       "      <td>1.494</td>\n",
       "      <td>4.806</td>\n",
       "      <td>92872.294</td>\n",
       "    </tr>\n",
       "    <tr>\n",
       "      <td>min</td>\n",
       "      <td>1.000</td>\n",
       "      <td>1.137</td>\n",
       "      <td>0.371</td>\n",
       "      <td>0.000</td>\n",
       "      <td>1.000</td>\n",
       "      <td>0.000</td>\n",
       "      <td>1.910e+03</td>\n",
       "      <td>0.000</td>\n",
       "      <td>0.000</td>\n",
       "      <td>168.000</td>\n",
       "      <td>0.000</td>\n",
       "      <td>0.000</td>\n",
       "      <td>0.000</td>\n",
       "      <td>0.000</td>\n",
       "      <td>59174.778</td>\n",
       "    </tr>\n",
       "    <tr>\n",
       "      <td>25%</td>\n",
       "      <td>1.000</td>\n",
       "      <td>41.775</td>\n",
       "      <td>22.770</td>\n",
       "      <td>1.000</td>\n",
       "      <td>4.000</td>\n",
       "      <td>9.000</td>\n",
       "      <td>1.974e+03</td>\n",
       "      <td>0.018</td>\n",
       "      <td>6.000</td>\n",
       "      <td>1564.000</td>\n",
       "      <td>0.000</td>\n",
       "      <td>350.000</td>\n",
       "      <td>0.000</td>\n",
       "      <td>1.000</td>\n",
       "      <td>153872.634</td>\n",
       "    </tr>\n",
       "    <tr>\n",
       "      <td>50%</td>\n",
       "      <td>2.000</td>\n",
       "      <td>52.513</td>\n",
       "      <td>32.781</td>\n",
       "      <td>6.000</td>\n",
       "      <td>7.000</td>\n",
       "      <td>13.000</td>\n",
       "      <td>1.977e+03</td>\n",
       "      <td>0.075</td>\n",
       "      <td>25.000</td>\n",
       "      <td>5285.000</td>\n",
       "      <td>2.000</td>\n",
       "      <td>900.000</td>\n",
       "      <td>1.000</td>\n",
       "      <td>3.000</td>\n",
       "      <td>192269.645</td>\n",
       "    </tr>\n",
       "    <tr>\n",
       "      <td>75%</td>\n",
       "      <td>2.000</td>\n",
       "      <td>65.901</td>\n",
       "      <td>45.129</td>\n",
       "      <td>9.000</td>\n",
       "      <td>12.000</td>\n",
       "      <td>17.000</td>\n",
       "      <td>2.001e+03</td>\n",
       "      <td>0.196</td>\n",
       "      <td>36.000</td>\n",
       "      <td>7227.000</td>\n",
       "      <td>5.000</td>\n",
       "      <td>1548.000</td>\n",
       "      <td>2.000</td>\n",
       "      <td>6.000</td>\n",
       "      <td>249135.462</td>\n",
       "    </tr>\n",
       "    <tr>\n",
       "      <td>max</td>\n",
       "      <td>6.000</td>\n",
       "      <td>641.065</td>\n",
       "      <td>7480.592</td>\n",
       "      <td>2014.000</td>\n",
       "      <td>42.000</td>\n",
       "      <td>117.000</td>\n",
       "      <td>2.005e+07</td>\n",
       "      <td>0.522</td>\n",
       "      <td>74.000</td>\n",
       "      <td>19083.000</td>\n",
       "      <td>141.000</td>\n",
       "      <td>4849.000</td>\n",
       "      <td>6.000</td>\n",
       "      <td>23.000</td>\n",
       "      <td>633233.467</td>\n",
       "    </tr>\n",
       "  </tbody>\n",
       "</table>\n",
       "</div>"
      ],
      "text/plain": [
       "           Rooms     Square  LifeSquare  KitchenSquare      Floor  HouseFloor  \\\n",
       "count  10000.000  10000.000    7887.000      10000.000  10000.000   10000.000   \n",
       "mean       1.889     56.316      37.200          6.273      8.527      12.609   \n",
       "std        0.812     21.059      86.241         28.561      5.241       6.776   \n",
       "min        1.000      1.137       0.371          0.000      1.000       0.000   \n",
       "25%        1.000     41.775      22.770          1.000      4.000       9.000   \n",
       "50%        2.000     52.513      32.781          6.000      7.000      13.000   \n",
       "75%        2.000     65.901      45.129          9.000     12.000      17.000   \n",
       "max        6.000    641.065    7480.592       2014.000     42.000     117.000   \n",
       "\n",
       "       HouseYear  Ecology_1   Social_1   Social_2   Social_3  Healthcare_1  \\\n",
       "count  1.000e+04  10000.000  10000.000  10000.000  10000.000      5202.000   \n",
       "mean   3.990e+03      0.119     24.687   5352.157      8.039      1142.904   \n",
       "std    2.005e+05      0.119     17.533   4006.800     23.832      1021.517   \n",
       "min    1.910e+03      0.000      0.000    168.000      0.000         0.000   \n",
       "25%    1.974e+03      0.018      6.000   1564.000      0.000       350.000   \n",
       "50%    1.977e+03      0.075     25.000   5285.000      2.000       900.000   \n",
       "75%    2.001e+03      0.196     36.000   7227.000      5.000      1548.000   \n",
       "max    2.005e+07      0.522     74.000  19083.000    141.000      4849.000   \n",
       "\n",
       "       Helthcare_2    Shops_1       Price  \n",
       "count    10000.000  10000.000   10000.000  \n",
       "mean         1.319      4.231  214138.857  \n",
       "std          1.494      4.806   92872.294  \n",
       "min          0.000      0.000   59174.778  \n",
       "25%          0.000      1.000  153872.634  \n",
       "50%          1.000      3.000  192269.645  \n",
       "75%          2.000      6.000  249135.462  \n",
       "max          6.000     23.000  633233.467  "
      ]
     },
     "execution_count": 21,
     "metadata": {},
     "output_type": "execute_result"
    }
   ],
   "source": [
    "train_df.describe()"
   ]
  },
  {
   "cell_type": "code",
   "execution_count": 22,
   "metadata": {},
   "outputs": [
    {
     "data": {
      "text/html": [
       "<div>\n",
       "<style scoped>\n",
       "    .dataframe tbody tr th:only-of-type {\n",
       "        vertical-align: middle;\n",
       "    }\n",
       "\n",
       "    .dataframe tbody tr th {\n",
       "        vertical-align: top;\n",
       "    }\n",
       "\n",
       "    .dataframe thead th {\n",
       "        text-align: right;\n",
       "    }\n",
       "</style>\n",
       "<table border=\"1\" class=\"dataframe\">\n",
       "  <thead>\n",
       "    <tr style=\"text-align: right;\">\n",
       "      <th></th>\n",
       "      <th>Rooms</th>\n",
       "      <th>Square</th>\n",
       "      <th>LifeSquare</th>\n",
       "      <th>KitchenSquare</th>\n",
       "      <th>Floor</th>\n",
       "      <th>HouseFloor</th>\n",
       "      <th>HouseYear</th>\n",
       "      <th>Ecology_1</th>\n",
       "      <th>Social_1</th>\n",
       "      <th>Social_2</th>\n",
       "      <th>Social_3</th>\n",
       "      <th>Healthcare_1</th>\n",
       "      <th>Helthcare_2</th>\n",
       "      <th>Shops_1</th>\n",
       "    </tr>\n",
       "  </thead>\n",
       "  <tbody>\n",
       "    <tr>\n",
       "      <td>count</td>\n",
       "      <td>5000.000</td>\n",
       "      <td>5000.000</td>\n",
       "      <td>3959.000</td>\n",
       "      <td>5000.000</td>\n",
       "      <td>5000.000</td>\n",
       "      <td>5000.000</td>\n",
       "      <td>5000.000</td>\n",
       "      <td>5000.000</td>\n",
       "      <td>5000.000</td>\n",
       "      <td>5000.000</td>\n",
       "      <td>5000.000</td>\n",
       "      <td>2623.000</td>\n",
       "      <td>5000.000</td>\n",
       "      <td>5000.000</td>\n",
       "    </tr>\n",
       "    <tr>\n",
       "      <td>mean</td>\n",
       "      <td>1.908</td>\n",
       "      <td>56.450</td>\n",
       "      <td>36.159</td>\n",
       "      <td>5.977</td>\n",
       "      <td>8.632</td>\n",
       "      <td>12.601</td>\n",
       "      <td>1984.393</td>\n",
       "      <td>0.120</td>\n",
       "      <td>24.934</td>\n",
       "      <td>5406.900</td>\n",
       "      <td>8.263</td>\n",
       "      <td>1146.657</td>\n",
       "      <td>1.319</td>\n",
       "      <td>4.243</td>\n",
       "    </tr>\n",
       "    <tr>\n",
       "      <td>std</td>\n",
       "      <td>0.810</td>\n",
       "      <td>19.093</td>\n",
       "      <td>17.825</td>\n",
       "      <td>9.950</td>\n",
       "      <td>5.483</td>\n",
       "      <td>6.789</td>\n",
       "      <td>18.573</td>\n",
       "      <td>0.120</td>\n",
       "      <td>17.532</td>\n",
       "      <td>4026.615</td>\n",
       "      <td>23.864</td>\n",
       "      <td>1044.744</td>\n",
       "      <td>1.480</td>\n",
       "      <td>4.777</td>\n",
       "    </tr>\n",
       "    <tr>\n",
       "      <td>min</td>\n",
       "      <td>1.000</td>\n",
       "      <td>1.379</td>\n",
       "      <td>0.333</td>\n",
       "      <td>0.000</td>\n",
       "      <td>1.000</td>\n",
       "      <td>0.000</td>\n",
       "      <td>1908.000</td>\n",
       "      <td>0.000</td>\n",
       "      <td>0.000</td>\n",
       "      <td>168.000</td>\n",
       "      <td>0.000</td>\n",
       "      <td>0.000</td>\n",
       "      <td>0.000</td>\n",
       "      <td>0.000</td>\n",
       "    </tr>\n",
       "    <tr>\n",
       "      <td>25%</td>\n",
       "      <td>1.000</td>\n",
       "      <td>41.906</td>\n",
       "      <td>23.092</td>\n",
       "      <td>1.000</td>\n",
       "      <td>4.000</td>\n",
       "      <td>9.000</td>\n",
       "      <td>1973.000</td>\n",
       "      <td>0.020</td>\n",
       "      <td>6.000</td>\n",
       "      <td>1564.000</td>\n",
       "      <td>0.000</td>\n",
       "      <td>325.000</td>\n",
       "      <td>0.000</td>\n",
       "      <td>1.000</td>\n",
       "    </tr>\n",
       "    <tr>\n",
       "      <td>50%</td>\n",
       "      <td>2.000</td>\n",
       "      <td>52.921</td>\n",
       "      <td>32.925</td>\n",
       "      <td>6.000</td>\n",
       "      <td>7.000</td>\n",
       "      <td>12.000</td>\n",
       "      <td>1977.000</td>\n",
       "      <td>0.072</td>\n",
       "      <td>25.000</td>\n",
       "      <td>5285.000</td>\n",
       "      <td>2.000</td>\n",
       "      <td>900.000</td>\n",
       "      <td>1.000</td>\n",
       "      <td>3.000</td>\n",
       "    </tr>\n",
       "    <tr>\n",
       "      <td>75%</td>\n",
       "      <td>2.000</td>\n",
       "      <td>66.285</td>\n",
       "      <td>45.174</td>\n",
       "      <td>9.000</td>\n",
       "      <td>12.000</td>\n",
       "      <td>17.000</td>\n",
       "      <td>2000.000</td>\n",
       "      <td>0.196</td>\n",
       "      <td>36.000</td>\n",
       "      <td>7287.000</td>\n",
       "      <td>5.000</td>\n",
       "      <td>1548.000</td>\n",
       "      <td>2.000</td>\n",
       "      <td>6.000</td>\n",
       "    </tr>\n",
       "    <tr>\n",
       "      <td>max</td>\n",
       "      <td>6.000</td>\n",
       "      <td>223.454</td>\n",
       "      <td>303.071</td>\n",
       "      <td>620.000</td>\n",
       "      <td>78.000</td>\n",
       "      <td>99.000</td>\n",
       "      <td>2020.000</td>\n",
       "      <td>0.522</td>\n",
       "      <td>74.000</td>\n",
       "      <td>19083.000</td>\n",
       "      <td>141.000</td>\n",
       "      <td>4849.000</td>\n",
       "      <td>6.000</td>\n",
       "      <td>23.000</td>\n",
       "    </tr>\n",
       "  </tbody>\n",
       "</table>\n",
       "</div>"
      ],
      "text/plain": [
       "          Rooms    Square  LifeSquare  KitchenSquare     Floor  HouseFloor  \\\n",
       "count  5000.000  5000.000    3959.000       5000.000  5000.000    5000.000   \n",
       "mean      1.908    56.450      36.159          5.977     8.632      12.601   \n",
       "std       0.810    19.093      17.825          9.950     5.483       6.789   \n",
       "min       1.000     1.379       0.333          0.000     1.000       0.000   \n",
       "25%       1.000    41.906      23.092          1.000     4.000       9.000   \n",
       "50%       2.000    52.921      32.925          6.000     7.000      12.000   \n",
       "75%       2.000    66.285      45.174          9.000    12.000      17.000   \n",
       "max       6.000   223.454     303.071        620.000    78.000      99.000   \n",
       "\n",
       "       HouseYear  Ecology_1  Social_1   Social_2  Social_3  Healthcare_1  \\\n",
       "count   5000.000   5000.000  5000.000   5000.000  5000.000      2623.000   \n",
       "mean    1984.393      0.120    24.934   5406.900     8.263      1146.657   \n",
       "std       18.573      0.120    17.532   4026.615    23.864      1044.744   \n",
       "min     1908.000      0.000     0.000    168.000     0.000         0.000   \n",
       "25%     1973.000      0.020     6.000   1564.000     0.000       325.000   \n",
       "50%     1977.000      0.072    25.000   5285.000     2.000       900.000   \n",
       "75%     2000.000      0.196    36.000   7287.000     5.000      1548.000   \n",
       "max     2020.000      0.522    74.000  19083.000   141.000      4849.000   \n",
       "\n",
       "       Helthcare_2   Shops_1  \n",
       "count     5000.000  5000.000  \n",
       "mean         1.319     4.243  \n",
       "std          1.480     4.777  \n",
       "min          0.000     0.000  \n",
       "25%          0.000     1.000  \n",
       "50%          1.000     3.000  \n",
       "75%          2.000     6.000  \n",
       "max          6.000    23.000  "
      ]
     },
     "execution_count": 22,
     "metadata": {},
     "output_type": "execute_result"
    }
   ],
   "source": [
    "test_df.describe()"
   ]
  },
  {
   "cell_type": "code",
   "execution_count": 23,
   "metadata": {},
   "outputs": [],
   "source": [
    "train_df = train_df[train_df['Square'].isnull() |\n",
    "                    (train_df['Square'] < train_df['Square'].quantile(.99)) &\n",
    "                    (train_df['Square'] > train_df['Square'].quantile(.01))]\n",
    "\n",
    "train_df = train_df[train_df['LifeSquare'].isnull() |\n",
    "                    (train_df['LifeSquare'] < train_df['LifeSquare'].quantile(.99)) &\n",
    "                    (train_df['LifeSquare'] > train_df['LifeSquare'].quantile(.01))]\n",
    "\n",
    "train_df = train_df[train_df['KitchenSquare'].isnull() |\n",
    "                    (train_df['KitchenSquare'] < train_df['KitchenSquare'].quantile(.99)) &\n",
    "                    (train_df['KitchenSquare'] > train_df['KitchenSquare'].quantile(.01))]"
   ]
  },
  {
   "cell_type": "code",
   "execution_count": 24,
   "metadata": {},
   "outputs": [
    {
     "data": {
      "text/html": [
       "<div>\n",
       "<style scoped>\n",
       "    .dataframe tbody tr th:only-of-type {\n",
       "        vertical-align: middle;\n",
       "    }\n",
       "\n",
       "    .dataframe tbody tr th {\n",
       "        vertical-align: top;\n",
       "    }\n",
       "\n",
       "    .dataframe thead th {\n",
       "        text-align: right;\n",
       "    }\n",
       "</style>\n",
       "<table border=\"1\" class=\"dataframe\">\n",
       "  <thead>\n",
       "    <tr style=\"text-align: right;\">\n",
       "      <th></th>\n",
       "      <th>Rooms</th>\n",
       "      <th>Square</th>\n",
       "      <th>LifeSquare</th>\n",
       "      <th>KitchenSquare</th>\n",
       "      <th>Floor</th>\n",
       "      <th>HouseFloor</th>\n",
       "      <th>HouseYear</th>\n",
       "      <th>Ecology_1</th>\n",
       "      <th>Social_1</th>\n",
       "      <th>Social_2</th>\n",
       "      <th>Social_3</th>\n",
       "      <th>Healthcare_1</th>\n",
       "      <th>Helthcare_2</th>\n",
       "      <th>Shops_1</th>\n",
       "      <th>Price</th>\n",
       "    </tr>\n",
       "  </thead>\n",
       "  <tbody>\n",
       "    <tr>\n",
       "      <td>count</td>\n",
       "      <td>8881.000</td>\n",
       "      <td>8881.000</td>\n",
       "      <td>7296.000</td>\n",
       "      <td>8881.000</td>\n",
       "      <td>8881.000</td>\n",
       "      <td>8881.000</td>\n",
       "      <td>8.881e+03</td>\n",
       "      <td>8881.000</td>\n",
       "      <td>8881.000</td>\n",
       "      <td>8881.000</td>\n",
       "      <td>8881.000</td>\n",
       "      <td>4799.000</td>\n",
       "      <td>8881.000</td>\n",
       "      <td>8881.000</td>\n",
       "      <td>8881.000</td>\n",
       "    </tr>\n",
       "    <tr>\n",
       "      <td>mean</td>\n",
       "      <td>1.885</td>\n",
       "      <td>54.809</td>\n",
       "      <td>34.830</td>\n",
       "      <td>6.075</td>\n",
       "      <td>8.447</td>\n",
       "      <td>12.827</td>\n",
       "      <td>4.243e+03</td>\n",
       "      <td>0.120</td>\n",
       "      <td>26.071</td>\n",
       "      <td>5630.480</td>\n",
       "      <td>8.404</td>\n",
       "      <td>1156.073</td>\n",
       "      <td>1.393</td>\n",
       "      <td>4.439</td>\n",
       "      <td>214939.479</td>\n",
       "    </tr>\n",
       "    <tr>\n",
       "      <td>std</td>\n",
       "      <td>0.797</td>\n",
       "      <td>16.225</td>\n",
       "      <td>14.281</td>\n",
       "      <td>3.504</td>\n",
       "      <td>5.134</td>\n",
       "      <td>6.369</td>\n",
       "      <td>2.128e+05</td>\n",
       "      <td>0.120</td>\n",
       "      <td>17.270</td>\n",
       "      <td>3977.903</td>\n",
       "      <td>24.295</td>\n",
       "      <td>1032.814</td>\n",
       "      <td>1.492</td>\n",
       "      <td>4.837</td>\n",
       "      <td>89654.210</td>\n",
       "    </tr>\n",
       "    <tr>\n",
       "      <td>min</td>\n",
       "      <td>1.000</td>\n",
       "      <td>29.720</td>\n",
       "      <td>2.941</td>\n",
       "      <td>1.000</td>\n",
       "      <td>1.000</td>\n",
       "      <td>0.000</td>\n",
       "      <td>1.914e+03</td>\n",
       "      <td>0.000</td>\n",
       "      <td>0.000</td>\n",
       "      <td>168.000</td>\n",
       "      <td>0.000</td>\n",
       "      <td>0.000</td>\n",
       "      <td>0.000</td>\n",
       "      <td>0.000</td>\n",
       "      <td>59174.778</td>\n",
       "    </tr>\n",
       "    <tr>\n",
       "      <td>25%</td>\n",
       "      <td>1.000</td>\n",
       "      <td>41.638</td>\n",
       "      <td>22.864</td>\n",
       "      <td>1.000</td>\n",
       "      <td>4.000</td>\n",
       "      <td>9.000</td>\n",
       "      <td>1.972e+03</td>\n",
       "      <td>0.018</td>\n",
       "      <td>10.000</td>\n",
       "      <td>2370.000</td>\n",
       "      <td>0.000</td>\n",
       "      <td>325.000</td>\n",
       "      <td>0.000</td>\n",
       "      <td>1.000</td>\n",
       "      <td>156934.440</td>\n",
       "    </tr>\n",
       "    <tr>\n",
       "      <td>50%</td>\n",
       "      <td>2.000</td>\n",
       "      <td>51.656</td>\n",
       "      <td>32.460</td>\n",
       "      <td>6.000</td>\n",
       "      <td>7.000</td>\n",
       "      <td>14.000</td>\n",
       "      <td>1.977e+03</td>\n",
       "      <td>0.076</td>\n",
       "      <td>25.000</td>\n",
       "      <td>5562.000</td>\n",
       "      <td>2.000</td>\n",
       "      <td>990.000</td>\n",
       "      <td>1.000</td>\n",
       "      <td>3.000</td>\n",
       "      <td>194240.535</td>\n",
       "    </tr>\n",
       "    <tr>\n",
       "      <td>75%</td>\n",
       "      <td>2.000</td>\n",
       "      <td>64.721</td>\n",
       "      <td>44.120</td>\n",
       "      <td>9.000</td>\n",
       "      <td>12.000</td>\n",
       "      <td>17.000</td>\n",
       "      <td>2.000e+03</td>\n",
       "      <td>0.194</td>\n",
       "      <td>36.000</td>\n",
       "      <td>7614.000</td>\n",
       "      <td>5.000</td>\n",
       "      <td>1548.000</td>\n",
       "      <td>3.000</td>\n",
       "      <td>6.000</td>\n",
       "      <td>250381.581</td>\n",
       "    </tr>\n",
       "    <tr>\n",
       "      <td>max</td>\n",
       "      <td>6.000</td>\n",
       "      <td>117.856</td>\n",
       "      <td>88.381</td>\n",
       "      <td>14.000</td>\n",
       "      <td>42.000</td>\n",
       "      <td>117.000</td>\n",
       "      <td>2.005e+07</td>\n",
       "      <td>0.522</td>\n",
       "      <td>74.000</td>\n",
       "      <td>19083.000</td>\n",
       "      <td>141.000</td>\n",
       "      <td>4849.000</td>\n",
       "      <td>6.000</td>\n",
       "      <td>23.000</td>\n",
       "      <td>633233.467</td>\n",
       "    </tr>\n",
       "  </tbody>\n",
       "</table>\n",
       "</div>"
      ],
      "text/plain": [
       "          Rooms    Square  LifeSquare  KitchenSquare     Floor  HouseFloor  \\\n",
       "count  8881.000  8881.000    7296.000       8881.000  8881.000    8881.000   \n",
       "mean      1.885    54.809      34.830          6.075     8.447      12.827   \n",
       "std       0.797    16.225      14.281          3.504     5.134       6.369   \n",
       "min       1.000    29.720       2.941          1.000     1.000       0.000   \n",
       "25%       1.000    41.638      22.864          1.000     4.000       9.000   \n",
       "50%       2.000    51.656      32.460          6.000     7.000      14.000   \n",
       "75%       2.000    64.721      44.120          9.000    12.000      17.000   \n",
       "max       6.000   117.856      88.381         14.000    42.000     117.000   \n",
       "\n",
       "       HouseYear  Ecology_1  Social_1   Social_2  Social_3  Healthcare_1  \\\n",
       "count  8.881e+03   8881.000  8881.000   8881.000  8881.000      4799.000   \n",
       "mean   4.243e+03      0.120    26.071   5630.480     8.404      1156.073   \n",
       "std    2.128e+05      0.120    17.270   3977.903    24.295      1032.814   \n",
       "min    1.914e+03      0.000     0.000    168.000     0.000         0.000   \n",
       "25%    1.972e+03      0.018    10.000   2370.000     0.000       325.000   \n",
       "50%    1.977e+03      0.076    25.000   5562.000     2.000       990.000   \n",
       "75%    2.000e+03      0.194    36.000   7614.000     5.000      1548.000   \n",
       "max    2.005e+07      0.522    74.000  19083.000   141.000      4849.000   \n",
       "\n",
       "       Helthcare_2   Shops_1       Price  \n",
       "count     8881.000  8881.000    8881.000  \n",
       "mean         1.393     4.439  214939.479  \n",
       "std          1.492     4.837   89654.210  \n",
       "min          0.000     0.000   59174.778  \n",
       "25%          0.000     1.000  156934.440  \n",
       "50%          1.000     3.000  194240.535  \n",
       "75%          3.000     6.000  250381.581  \n",
       "max          6.000    23.000  633233.467  "
      ]
     },
     "execution_count": 24,
     "metadata": {},
     "output_type": "execute_result"
    }
   ],
   "source": [
    "train_df.describe()"
   ]
  },
  {
   "cell_type": "code",
   "execution_count": 25,
   "metadata": {},
   "outputs": [],
   "source": [
    "train_df.loc[train_df['LifeSquare'] < 10, 'LifeSquare'] = 10"
   ]
  },
  {
   "cell_type": "code",
   "execution_count": 26,
   "metadata": {},
   "outputs": [],
   "source": [
    "test_df.loc[test_df['LifeSquare'] < 10, 'LifeSquare'] = 10"
   ]
  },
  {
   "cell_type": "code",
   "execution_count": 27,
   "metadata": {},
   "outputs": [],
   "source": [
    "train_df.loc[train_df['KitchenSquare'] < 3, 'KitchenSquare'] = 3"
   ]
  },
  {
   "cell_type": "code",
   "execution_count": 28,
   "metadata": {},
   "outputs": [],
   "source": [
    "test_df.loc[test_df['KitchenSquare'] < 3, 'KitchenSquare'] = 3"
   ]
  },
  {
   "cell_type": "markdown",
   "metadata": {},
   "source": [
    "**HouseFloor, Floor**"
   ]
  },
  {
   "cell_type": "code",
   "execution_count": 29,
   "metadata": {
    "scrolled": true
   },
   "outputs": [
    {
     "data": {
      "text/plain": [
       "array([  0.,   1.,   2.,   3.,   4.,   5.,   6.,   7.,   8.,   9.,  10.,\n",
       "        11.,  12.,  13.,  14.,  15.,  16.,  17.,  18.,  19.,  20.,  21.,\n",
       "        22.,  23.,  24.,  25.,  26.,  27.,  28.,  29.,  30.,  32.,  37.,\n",
       "        39.,  40.,  44.,  45.,  48.,  99., 117.])"
      ]
     },
     "execution_count": 29,
     "metadata": {},
     "output_type": "execute_result"
    }
   ],
   "source": [
    "train_df['HouseFloor'].sort_values().unique()"
   ]
  },
  {
   "cell_type": "code",
   "execution_count": 30,
   "metadata": {
    "scrolled": true
   },
   "outputs": [
    {
     "data": {
      "text/plain": [
       "array([ 1,  2,  3,  4,  5,  6,  7,  8,  9, 10, 11, 12, 13, 14, 15, 16, 17,\n",
       "       18, 19, 20, 21, 22, 23, 24, 25, 26, 27, 28, 31, 32, 33, 42],\n",
       "      dtype=int64)"
      ]
     },
     "execution_count": 30,
     "metadata": {},
     "output_type": "execute_result"
    }
   ],
   "source": [
    "train_df['Floor'].sort_values().unique()"
   ]
  },
  {
   "cell_type": "code",
   "execution_count": 31,
   "metadata": {},
   "outputs": [
    {
     "data": {
      "text/plain": [
       "array([ 0.,  1.,  2.,  3.,  4.,  5.,  6.,  7.,  8.,  9., 10., 11., 12.,\n",
       "       13., 14., 15., 16., 17., 18., 19., 20., 21., 22., 23., 24., 25.,\n",
       "       26., 27., 28., 29., 30., 31., 32., 33., 34., 36., 37., 39., 40.,\n",
       "       48., 99.])"
      ]
     },
     "execution_count": 31,
     "metadata": {},
     "output_type": "execute_result"
    }
   ],
   "source": [
    "test_df['HouseFloor'].sort_values().unique()"
   ]
  },
  {
   "cell_type": "code",
   "execution_count": 32,
   "metadata": {},
   "outputs": [
    {
     "data": {
      "text/plain": [
       "array([ 1,  2,  3,  4,  5,  6,  7,  8,  9, 10, 11, 12, 13, 14, 15, 16, 17,\n",
       "       18, 19, 20, 21, 22, 23, 24, 25, 26, 27, 28, 31, 32, 33, 34, 38, 46,\n",
       "       78], dtype=int64)"
      ]
     },
     "execution_count": 32,
     "metadata": {},
     "output_type": "execute_result"
    }
   ],
   "source": [
    "test_df['Floor'].sort_values().unique()"
   ]
  },
  {
   "cell_type": "code",
   "execution_count": 33,
   "metadata": {},
   "outputs": [],
   "source": [
    "train_df.loc[train_df['HouseFloor'] == 0, 'HouseFloor'] = train_df['HouseFloor'].median()"
   ]
  },
  {
   "cell_type": "code",
   "execution_count": 34,
   "metadata": {},
   "outputs": [],
   "source": [
    "floor_outliers = train_df[train_df['Floor'] > train_df['HouseFloor']].index\n",
    "\n",
    "train_df.loc[floor_outliers, 'Floor'] = train_df.loc[floor_outliers, 'HouseFloor'].apply(lambda x: random.randint(1, x))\n"
   ]
  },
  {
   "cell_type": "code",
   "execution_count": 35,
   "metadata": {},
   "outputs": [],
   "source": [
    "test_df.loc[test_df['HouseFloor'] == 0, 'HouseFloor'] = test_df['HouseFloor'].median()"
   ]
  },
  {
   "cell_type": "code",
   "execution_count": 36,
   "metadata": {},
   "outputs": [],
   "source": [
    "floor_outliers_test = test_df[test_df['Floor'] > test_df['HouseFloor']].index\n",
    "\n",
    "test_df.loc[floor_outliers_test, 'Floor'] = test_df.loc[floor_outliers_test, 'HouseFloor'].apply(lambda x: random.randint(1, x))"
   ]
  },
  {
   "cell_type": "markdown",
   "metadata": {},
   "source": [
    "**HouseYear**"
   ]
  },
  {
   "cell_type": "code",
   "execution_count": 37,
   "metadata": {
    "scrolled": true
   },
   "outputs": [
    {
     "data": {
      "text/plain": [
       "array([    1914,     1916,     1917,     1918,     1919,     1928,\n",
       "           1929,     1930,     1931,     1932,     1933,     1934,\n",
       "           1935,     1936,     1937,     1938,     1939,     1940,\n",
       "           1941,     1942,     1947,     1948,     1950,     1951,\n",
       "           1952,     1953,     1954,     1955,     1956,     1957,\n",
       "           1958,     1959,     1960,     1961,     1962,     1963,\n",
       "           1964,     1965,     1966,     1967,     1968,     1969,\n",
       "           1970,     1971,     1972,     1973,     1974,     1975,\n",
       "           1976,     1977,     1978,     1979,     1980,     1981,\n",
       "           1982,     1983,     1984,     1985,     1986,     1987,\n",
       "           1988,     1989,     1990,     1991,     1992,     1993,\n",
       "           1994,     1995,     1996,     1997,     1998,     1999,\n",
       "           2000,     2001,     2002,     2003,     2004,     2005,\n",
       "           2006,     2007,     2008,     2009,     2010,     2011,\n",
       "           2012,     2013,     2014,     2015,     2016,     2017,\n",
       "           2018,     2019,     2020,     4968, 20052011], dtype=int64)"
      ]
     },
     "execution_count": 37,
     "metadata": {},
     "output_type": "execute_result"
    }
   ],
   "source": [
    "train_df['HouseYear'].sort_values().unique()"
   ]
  },
  {
   "cell_type": "code",
   "execution_count": 38,
   "metadata": {},
   "outputs": [],
   "source": [
    "train_df.loc[train_df['HouseYear'] > 2020, 'HouseYear'] = 2020"
   ]
  },
  {
   "cell_type": "code",
   "execution_count": 39,
   "metadata": {},
   "outputs": [
    {
     "data": {
      "text/plain": [
       "array([1908, 1909, 1910, 1911, 1912, 1914, 1917, 1918, 1920, 1926, 1927,\n",
       "       1928, 1929, 1930, 1931, 1932, 1933, 1934, 1935, 1937, 1938, 1939,\n",
       "       1940, 1941, 1943, 1948, 1949, 1950, 1952, 1953, 1954, 1955, 1956,\n",
       "       1957, 1958, 1959, 1960, 1961, 1962, 1963, 1964, 1965, 1966, 1967,\n",
       "       1968, 1969, 1970, 1971, 1972, 1973, 1974, 1975, 1976, 1977, 1978,\n",
       "       1979, 1980, 1981, 1982, 1983, 1984, 1985, 1986, 1987, 1988, 1989,\n",
       "       1990, 1991, 1992, 1993, 1994, 1995, 1996, 1997, 1998, 1999, 2000,\n",
       "       2001, 2002, 2003, 2004, 2005, 2006, 2007, 2008, 2009, 2010, 2011,\n",
       "       2012, 2013, 2014, 2015, 2016, 2017, 2018, 2019, 2020], dtype=int64)"
      ]
     },
     "execution_count": 39,
     "metadata": {},
     "output_type": "execute_result"
    }
   ],
   "source": [
    "test_df['HouseYear'].sort_values().unique()"
   ]
  },
  {
   "cell_type": "markdown",
   "metadata": {},
   "source": [
    "### Обработка пропусков"
   ]
  },
  {
   "cell_type": "code",
   "execution_count": 40,
   "metadata": {},
   "outputs": [
    {
     "data": {
      "text/plain": [
       "Id                  0\n",
       "DistrictId          0\n",
       "Rooms               0\n",
       "Square              0\n",
       "LifeSquare       1585\n",
       "KitchenSquare       0\n",
       "Floor               0\n",
       "HouseFloor          0\n",
       "HouseYear           0\n",
       "Ecology_1           0\n",
       "Ecology_2           0\n",
       "Ecology_3           0\n",
       "Social_1            0\n",
       "Social_2            0\n",
       "Social_3            0\n",
       "Healthcare_1     4082\n",
       "Helthcare_2         0\n",
       "Shops_1             0\n",
       "Shops_2             0\n",
       "Price               0\n",
       "dtype: int64"
      ]
     },
     "execution_count": 40,
     "metadata": {},
     "output_type": "execute_result"
    }
   ],
   "source": [
    "train_df.isnull().sum()"
   ]
  },
  {
   "cell_type": "code",
   "execution_count": 41,
   "metadata": {},
   "outputs": [
    {
     "data": {
      "text/html": [
       "<div>\n",
       "<style scoped>\n",
       "    .dataframe tbody tr th:only-of-type {\n",
       "        vertical-align: middle;\n",
       "    }\n",
       "\n",
       "    .dataframe tbody tr th {\n",
       "        vertical-align: top;\n",
       "    }\n",
       "\n",
       "    .dataframe thead th {\n",
       "        text-align: right;\n",
       "    }\n",
       "</style>\n",
       "<table border=\"1\" class=\"dataframe\">\n",
       "  <thead>\n",
       "    <tr style=\"text-align: right;\">\n",
       "      <th></th>\n",
       "      <th>Square</th>\n",
       "      <th>LifeSquare</th>\n",
       "      <th>KitchenSquare</th>\n",
       "    </tr>\n",
       "  </thead>\n",
       "  <tbody>\n",
       "    <tr>\n",
       "      <td>0</td>\n",
       "      <td>47.982</td>\n",
       "      <td>29.443</td>\n",
       "      <td>6.0</td>\n",
       "    </tr>\n",
       "    <tr>\n",
       "      <td>1</td>\n",
       "      <td>65.684</td>\n",
       "      <td>40.050</td>\n",
       "      <td>8.0</td>\n",
       "    </tr>\n",
       "    <tr>\n",
       "      <td>3</td>\n",
       "      <td>53.353</td>\n",
       "      <td>52.732</td>\n",
       "      <td>9.0</td>\n",
       "    </tr>\n",
       "    <tr>\n",
       "      <td>4</td>\n",
       "      <td>39.649</td>\n",
       "      <td>23.776</td>\n",
       "      <td>7.0</td>\n",
       "    </tr>\n",
       "    <tr>\n",
       "      <td>5</td>\n",
       "      <td>80.384</td>\n",
       "      <td>46.684</td>\n",
       "      <td>12.0</td>\n",
       "    </tr>\n",
       "    <tr>\n",
       "      <td>6</td>\n",
       "      <td>62.254</td>\n",
       "      <td>37.160</td>\n",
       "      <td>7.0</td>\n",
       "    </tr>\n",
       "    <tr>\n",
       "      <td>8</td>\n",
       "      <td>64.511</td>\n",
       "      <td>NaN</td>\n",
       "      <td>3.0</td>\n",
       "    </tr>\n",
       "    <tr>\n",
       "      <td>9</td>\n",
       "      <td>46.461</td>\n",
       "      <td>18.916</td>\n",
       "      <td>8.0</td>\n",
       "    </tr>\n",
       "    <tr>\n",
       "      <td>10</td>\n",
       "      <td>46.305</td>\n",
       "      <td>27.923</td>\n",
       "      <td>6.0</td>\n",
       "    </tr>\n",
       "    <tr>\n",
       "      <td>11</td>\n",
       "      <td>68.809</td>\n",
       "      <td>45.737</td>\n",
       "      <td>7.0</td>\n",
       "    </tr>\n",
       "  </tbody>\n",
       "</table>\n",
       "</div>"
      ],
      "text/plain": [
       "    Square  LifeSquare  KitchenSquare\n",
       "0   47.982      29.443            6.0\n",
       "1   65.684      40.050            8.0\n",
       "3   53.353      52.732            9.0\n",
       "4   39.649      23.776            7.0\n",
       "5   80.384      46.684           12.0\n",
       "6   62.254      37.160            7.0\n",
       "8   64.511         NaN            3.0\n",
       "9   46.461      18.916            8.0\n",
       "10  46.305      27.923            6.0\n",
       "11  68.809      45.737            7.0"
      ]
     },
     "execution_count": 41,
     "metadata": {},
     "output_type": "execute_result"
    }
   ],
   "source": [
    "train_df[['Square', 'LifeSquare', 'KitchenSquare']].head(10)"
   ]
  },
  {
   "cell_type": "markdown",
   "metadata": {},
   "source": [
    "**LifeSquare**"
   ]
  },
  {
   "cell_type": "code",
   "execution_count": 42,
   "metadata": {},
   "outputs": [
    {
     "data": {
      "text/plain": [
       "32.459930868446605"
      ]
     },
     "execution_count": 42,
     "metadata": {},
     "output_type": "execute_result"
    }
   ],
   "source": [
    "# медиана до корректировки\n",
    "train_df['LifeSquare'].median()"
   ]
  },
  {
   "cell_type": "code",
   "execution_count": 43,
   "metadata": {},
   "outputs": [
    {
     "data": {
      "text/plain": [
       "11.490551802890103"
      ]
     },
     "execution_count": 43,
     "metadata": {},
     "output_type": "execute_result"
    }
   ],
   "source": [
    "# медиана расхождения площадей\n",
    "square_med_diff = (train_df.loc[train_df['LifeSquare'].notnull(), 'Square']\n",
    "                   - train_df.loc[train_df['LifeSquare'].notnull(), 'LifeSquare']\n",
    "                   - train_df.loc[train_df['LifeSquare'].notnull(), 'KitchenSquare']).median()\n",
    "\n",
    "square_med_diff"
   ]
  },
  {
   "cell_type": "code",
   "execution_count": 44,
   "metadata": {},
   "outputs": [],
   "source": [
    "train_df.loc[train_df['LifeSquare'].isnull(), 'LifeSquare'] = (\n",
    "    train_df.loc[train_df['LifeSquare'].isnull(), 'Square']\n",
    "    - train_df.loc[train_df['LifeSquare'].isnull(), 'KitchenSquare']\n",
    "    - square_med_diff\n",
    ")"
   ]
  },
  {
   "cell_type": "code",
   "execution_count": 45,
   "metadata": {},
   "outputs": [
    {
     "data": {
      "text/plain": [
       "33.273699979715275"
      ]
     },
     "execution_count": 45,
     "metadata": {},
     "output_type": "execute_result"
    }
   ],
   "source": [
    "train_df['LifeSquare'].median()"
   ]
  },
  {
   "cell_type": "code",
   "execution_count": 46,
   "metadata": {},
   "outputs": [
    {
     "data": {
      "text/plain": [
       "32.92508663208161"
      ]
     },
     "execution_count": 46,
     "metadata": {},
     "output_type": "execute_result"
    }
   ],
   "source": [
    "test_df['LifeSquare'].median()"
   ]
  },
  {
   "cell_type": "code",
   "execution_count": 47,
   "metadata": {},
   "outputs": [
    {
     "data": {
      "text/plain": [
       "11.379791558212638"
      ]
     },
     "execution_count": 47,
     "metadata": {},
     "output_type": "execute_result"
    }
   ],
   "source": [
    "test_square_med_diff = (test_df.loc[test_df['LifeSquare'].notnull(), 'Square']\n",
    "                   - test_df.loc[test_df['LifeSquare'].notnull(), 'LifeSquare']\n",
    "                   - test_df.loc[test_df['LifeSquare'].notnull(), 'KitchenSquare']).median()\n",
    "\n",
    "test_square_med_diff"
   ]
  },
  {
   "cell_type": "code",
   "execution_count": 48,
   "metadata": {},
   "outputs": [],
   "source": [
    "test_df.loc[test_df['LifeSquare'].isnull(), 'LifeSquare'] = (\n",
    "    test_df.loc[test_df['LifeSquare'].isnull(), 'Square']\n",
    "    - test_df.loc[test_df['LifeSquare'].isnull(), 'KitchenSquare']\n",
    "    - test_square_med_diff\n",
    ")"
   ]
  },
  {
   "cell_type": "code",
   "execution_count": 49,
   "metadata": {},
   "outputs": [
    {
     "data": {
      "text/plain": [
       "34.0714866020499"
      ]
     },
     "execution_count": 49,
     "metadata": {},
     "output_type": "execute_result"
    }
   ],
   "source": [
    "test_df['LifeSquare'].median()"
   ]
  },
  {
   "cell_type": "markdown",
   "metadata": {},
   "source": [
    "**Healthcare_1**"
   ]
  },
  {
   "cell_type": "code",
   "execution_count": 50,
   "metadata": {},
   "outputs": [
    {
     "data": {
      "text/plain": [
       "0       NaN\n",
       "1     240.0\n",
       "3    1084.0\n",
       "4    2078.0\n",
       "5     990.0\n",
       "Name: Healthcare_1, dtype: float64"
      ]
     },
     "execution_count": 50,
     "metadata": {},
     "output_type": "execute_result"
    }
   ],
   "source": [
    "train_df['Healthcare_1'].head()"
   ]
  },
  {
   "cell_type": "code",
   "execution_count": 51,
   "metadata": {},
   "outputs": [],
   "source": [
    "train_df.loc[train_df['Healthcare_1'].isnull(), 'Healthcare_1'] = train_df['Healthcare_1'].median()"
   ]
  },
  {
   "cell_type": "code",
   "execution_count": 52,
   "metadata": {},
   "outputs": [
    {
     "data": {
      "text/plain": [
       "0       NaN\n",
       "1       NaN\n",
       "2    4702.0\n",
       "3       NaN\n",
       "4       NaN\n",
       "Name: Healthcare_1, dtype: float64"
      ]
     },
     "execution_count": 52,
     "metadata": {},
     "output_type": "execute_result"
    }
   ],
   "source": [
    "test_df['Healthcare_1'].head()"
   ]
  },
  {
   "cell_type": "code",
   "execution_count": 53,
   "metadata": {},
   "outputs": [],
   "source": [
    "test_df.loc[test_df['Healthcare_1'].isnull(), 'Healthcare_1'] = test_df['Healthcare_1'].median()"
   ]
  },
  {
   "cell_type": "markdown",
   "metadata": {},
   "source": [
    "### Построение новых признаков"
   ]
  },
  {
   "cell_type": "markdown",
   "metadata": {},
   "source": [
    "**Dummies**"
   ]
  },
  {
   "cell_type": "code",
   "execution_count": 54,
   "metadata": {},
   "outputs": [],
   "source": [
    "train_df['Ecology_2_bin'] = train_df['Ecology_2'].replace({'A':0, 'B':1})\n",
    "train_df['Ecology_3_bin'] = train_df['Ecology_3'].replace({'A':0, 'B':1})\n",
    "train_df['Shops_2_bin'] = train_df['Shops_2'].replace({'A':0, 'B':1})"
   ]
  },
  {
   "cell_type": "code",
   "execution_count": 55,
   "metadata": {},
   "outputs": [],
   "source": [
    "test_df['Ecology_2_bin'] = test_df['Ecology_2'].replace({'A':0, 'B':1})\n",
    "test_df['Ecology_3_bin'] = test_df['Ecology_3'].replace({'A':0, 'B':1})\n",
    "test_df['Shops_2_bin'] = test_df['Shops_2'].replace({'A':0, 'B':1})"
   ]
  },
  {
   "cell_type": "markdown",
   "metadata": {},
   "source": [
    "**DistrictSize, IsDistrictLarge**"
   ]
  },
  {
   "cell_type": "code",
   "execution_count": 56,
   "metadata": {},
   "outputs": [
    {
     "data": {
      "text/plain": [
       "27     628\n",
       "1      537\n",
       "23     449\n",
       "6      396\n",
       "9      279\n",
       "      ... \n",
       "196      1\n",
       "199      1\n",
       "117      1\n",
       "174      1\n",
       "205      1\n",
       "Name: DistrictId, Length: 205, dtype: int64"
      ]
     },
     "execution_count": 56,
     "metadata": {},
     "output_type": "execute_result"
    }
   ],
   "source": [
    "train_df['DistrictId'].value_counts()"
   ]
  },
  {
   "cell_type": "code",
   "execution_count": 57,
   "metadata": {},
   "outputs": [
    {
     "data": {
      "text/plain": [
       "27     391\n",
       "1      344\n",
       "23     264\n",
       "6      257\n",
       "9      132\n",
       "      ... \n",
       "136      1\n",
       "65       1\n",
       "175      1\n",
       "212      1\n",
       "150      1\n",
       "Name: DistrictId, Length: 201, dtype: int64"
      ]
     },
     "execution_count": 57,
     "metadata": {},
     "output_type": "execute_result"
    }
   ],
   "source": [
    "test_df['DistrictId'].value_counts()"
   ]
  },
  {
   "cell_type": "code",
   "execution_count": 58,
   "metadata": {},
   "outputs": [
    {
     "data": {
      "text/html": [
       "<div>\n",
       "<style scoped>\n",
       "    .dataframe tbody tr th:only-of-type {\n",
       "        vertical-align: middle;\n",
       "    }\n",
       "\n",
       "    .dataframe tbody tr th {\n",
       "        vertical-align: top;\n",
       "    }\n",
       "\n",
       "    .dataframe thead th {\n",
       "        text-align: right;\n",
       "    }\n",
       "</style>\n",
       "<table border=\"1\" class=\"dataframe\">\n",
       "  <thead>\n",
       "    <tr style=\"text-align: right;\">\n",
       "      <th></th>\n",
       "      <th>DistrictId</th>\n",
       "      <th>DistrictSize</th>\n",
       "    </tr>\n",
       "  </thead>\n",
       "  <tbody>\n",
       "    <tr>\n",
       "      <td>0</td>\n",
       "      <td>27</td>\n",
       "      <td>628</td>\n",
       "    </tr>\n",
       "    <tr>\n",
       "      <td>1</td>\n",
       "      <td>1</td>\n",
       "      <td>537</td>\n",
       "    </tr>\n",
       "    <tr>\n",
       "      <td>2</td>\n",
       "      <td>23</td>\n",
       "      <td>449</td>\n",
       "    </tr>\n",
       "    <tr>\n",
       "      <td>3</td>\n",
       "      <td>6</td>\n",
       "      <td>396</td>\n",
       "    </tr>\n",
       "    <tr>\n",
       "      <td>4</td>\n",
       "      <td>9</td>\n",
       "      <td>279</td>\n",
       "    </tr>\n",
       "  </tbody>\n",
       "</table>\n",
       "</div>"
      ],
      "text/plain": [
       "  DistrictId  DistrictSize\n",
       "0         27           628\n",
       "1          1           537\n",
       "2         23           449\n",
       "3          6           396\n",
       "4          9           279"
      ]
     },
     "execution_count": 58,
     "metadata": {},
     "output_type": "execute_result"
    }
   ],
   "source": [
    "district_size = train_df['DistrictId'].value_counts().reset_index()\\\n",
    "               .rename(columns={'index':'DistrictId', 'DistrictId':'DistrictSize'})\n",
    "\n",
    "district_size.head()"
   ]
  },
  {
   "cell_type": "code",
   "execution_count": 59,
   "metadata": {},
   "outputs": [
    {
     "data": {
      "text/html": [
       "<div>\n",
       "<style scoped>\n",
       "    .dataframe tbody tr th:only-of-type {\n",
       "        vertical-align: middle;\n",
       "    }\n",
       "\n",
       "    .dataframe tbody tr th {\n",
       "        vertical-align: top;\n",
       "    }\n",
       "\n",
       "    .dataframe thead th {\n",
       "        text-align: right;\n",
       "    }\n",
       "</style>\n",
       "<table border=\"1\" class=\"dataframe\">\n",
       "  <thead>\n",
       "    <tr style=\"text-align: right;\">\n",
       "      <th></th>\n",
       "      <th>DistrictId</th>\n",
       "      <th>DistrictSize</th>\n",
       "    </tr>\n",
       "  </thead>\n",
       "  <tbody>\n",
       "    <tr>\n",
       "      <td>0</td>\n",
       "      <td>27</td>\n",
       "      <td>391</td>\n",
       "    </tr>\n",
       "    <tr>\n",
       "      <td>1</td>\n",
       "      <td>1</td>\n",
       "      <td>344</td>\n",
       "    </tr>\n",
       "    <tr>\n",
       "      <td>2</td>\n",
       "      <td>23</td>\n",
       "      <td>264</td>\n",
       "    </tr>\n",
       "    <tr>\n",
       "      <td>3</td>\n",
       "      <td>6</td>\n",
       "      <td>257</td>\n",
       "    </tr>\n",
       "    <tr>\n",
       "      <td>4</td>\n",
       "      <td>9</td>\n",
       "      <td>132</td>\n",
       "    </tr>\n",
       "  </tbody>\n",
       "</table>\n",
       "</div>"
      ],
      "text/plain": [
       "  DistrictId  DistrictSize\n",
       "0         27           391\n",
       "1          1           344\n",
       "2         23           264\n",
       "3          6           257\n",
       "4          9           132"
      ]
     },
     "execution_count": 59,
     "metadata": {},
     "output_type": "execute_result"
    }
   ],
   "source": [
    "test_district_size = test_df['DistrictId'].value_counts().reset_index()\\\n",
    "               .rename(columns={'index':'DistrictId', 'DistrictId':'DistrictSize'})\n",
    "\n",
    "test_district_size.head()"
   ]
  },
  {
   "cell_type": "code",
   "execution_count": 60,
   "metadata": {},
   "outputs": [
    {
     "data": {
      "text/html": [
       "<div>\n",
       "<style scoped>\n",
       "    .dataframe tbody tr th:only-of-type {\n",
       "        vertical-align: middle;\n",
       "    }\n",
       "\n",
       "    .dataframe tbody tr th {\n",
       "        vertical-align: top;\n",
       "    }\n",
       "\n",
       "    .dataframe thead th {\n",
       "        text-align: right;\n",
       "    }\n",
       "</style>\n",
       "<table border=\"1\" class=\"dataframe\">\n",
       "  <thead>\n",
       "    <tr style=\"text-align: right;\">\n",
       "      <th></th>\n",
       "      <th>Id</th>\n",
       "      <th>DistrictId</th>\n",
       "      <th>Rooms</th>\n",
       "      <th>Square</th>\n",
       "      <th>LifeSquare</th>\n",
       "      <th>KitchenSquare</th>\n",
       "      <th>Floor</th>\n",
       "      <th>HouseFloor</th>\n",
       "      <th>HouseYear</th>\n",
       "      <th>Ecology_1</th>\n",
       "      <th>Ecology_2</th>\n",
       "      <th>Ecology_3</th>\n",
       "      <th>Social_1</th>\n",
       "      <th>Social_2</th>\n",
       "      <th>Social_3</th>\n",
       "      <th>Healthcare_1</th>\n",
       "      <th>Helthcare_2</th>\n",
       "      <th>Shops_1</th>\n",
       "      <th>Shops_2</th>\n",
       "      <th>Price</th>\n",
       "      <th>Ecology_2_bin</th>\n",
       "      <th>Ecology_3_bin</th>\n",
       "      <th>Shops_2_bin</th>\n",
       "      <th>DistrictSize</th>\n",
       "    </tr>\n",
       "  </thead>\n",
       "  <tbody>\n",
       "    <tr>\n",
       "      <td>0</td>\n",
       "      <td>14038</td>\n",
       "      <td>35</td>\n",
       "      <td>2.0</td>\n",
       "      <td>47.982</td>\n",
       "      <td>29.443</td>\n",
       "      <td>6.0</td>\n",
       "      <td>7</td>\n",
       "      <td>9.0</td>\n",
       "      <td>1969</td>\n",
       "      <td>8.904e-02</td>\n",
       "      <td>B</td>\n",
       "      <td>B</td>\n",
       "      <td>33</td>\n",
       "      <td>7976</td>\n",
       "      <td>5</td>\n",
       "      <td>990.0</td>\n",
       "      <td>0</td>\n",
       "      <td>11</td>\n",
       "      <td>B</td>\n",
       "      <td>184966.931</td>\n",
       "      <td>1</td>\n",
       "      <td>1</td>\n",
       "      <td>1</td>\n",
       "      <td>20</td>\n",
       "    </tr>\n",
       "    <tr>\n",
       "      <td>1</td>\n",
       "      <td>15053</td>\n",
       "      <td>41</td>\n",
       "      <td>3.0</td>\n",
       "      <td>65.684</td>\n",
       "      <td>40.050</td>\n",
       "      <td>8.0</td>\n",
       "      <td>7</td>\n",
       "      <td>9.0</td>\n",
       "      <td>1978</td>\n",
       "      <td>6.999e-05</td>\n",
       "      <td>B</td>\n",
       "      <td>B</td>\n",
       "      <td>46</td>\n",
       "      <td>10309</td>\n",
       "      <td>1</td>\n",
       "      <td>240.0</td>\n",
       "      <td>1</td>\n",
       "      <td>16</td>\n",
       "      <td>B</td>\n",
       "      <td>300009.450</td>\n",
       "      <td>1</td>\n",
       "      <td>1</td>\n",
       "      <td>1</td>\n",
       "      <td>86</td>\n",
       "    </tr>\n",
       "    <tr>\n",
       "      <td>2</td>\n",
       "      <td>5809</td>\n",
       "      <td>58</td>\n",
       "      <td>2.0</td>\n",
       "      <td>53.353</td>\n",
       "      <td>52.732</td>\n",
       "      <td>9.0</td>\n",
       "      <td>8</td>\n",
       "      <td>17.0</td>\n",
       "      <td>1977</td>\n",
       "      <td>4.379e-01</td>\n",
       "      <td>B</td>\n",
       "      <td>B</td>\n",
       "      <td>23</td>\n",
       "      <td>5735</td>\n",
       "      <td>3</td>\n",
       "      <td>1084.0</td>\n",
       "      <td>0</td>\n",
       "      <td>5</td>\n",
       "      <td>B</td>\n",
       "      <td>175616.227</td>\n",
       "      <td>1</td>\n",
       "      <td>1</td>\n",
       "      <td>1</td>\n",
       "      <td>146</td>\n",
       "    </tr>\n",
       "    <tr>\n",
       "      <td>3</td>\n",
       "      <td>10783</td>\n",
       "      <td>99</td>\n",
       "      <td>1.0</td>\n",
       "      <td>39.649</td>\n",
       "      <td>23.776</td>\n",
       "      <td>7.0</td>\n",
       "      <td>11</td>\n",
       "      <td>12.0</td>\n",
       "      <td>1976</td>\n",
       "      <td>1.234e-02</td>\n",
       "      <td>B</td>\n",
       "      <td>B</td>\n",
       "      <td>35</td>\n",
       "      <td>5776</td>\n",
       "      <td>1</td>\n",
       "      <td>2078.0</td>\n",
       "      <td>2</td>\n",
       "      <td>4</td>\n",
       "      <td>B</td>\n",
       "      <td>150226.532</td>\n",
       "      <td>1</td>\n",
       "      <td>1</td>\n",
       "      <td>1</td>\n",
       "      <td>95</td>\n",
       "    </tr>\n",
       "    <tr>\n",
       "      <td>4</td>\n",
       "      <td>12915</td>\n",
       "      <td>59</td>\n",
       "      <td>3.0</td>\n",
       "      <td>80.384</td>\n",
       "      <td>46.684</td>\n",
       "      <td>12.0</td>\n",
       "      <td>5</td>\n",
       "      <td>17.0</td>\n",
       "      <td>2011</td>\n",
       "      <td>3.095e-01</td>\n",
       "      <td>B</td>\n",
       "      <td>B</td>\n",
       "      <td>35</td>\n",
       "      <td>7715</td>\n",
       "      <td>4</td>\n",
       "      <td>990.0</td>\n",
       "      <td>0</td>\n",
       "      <td>6</td>\n",
       "      <td>B</td>\n",
       "      <td>215898.448</td>\n",
       "      <td>1</td>\n",
       "      <td>1</td>\n",
       "      <td>1</td>\n",
       "      <td>54</td>\n",
       "    </tr>\n",
       "  </tbody>\n",
       "</table>\n",
       "</div>"
      ],
      "text/plain": [
       "      Id DistrictId  Rooms  Square  LifeSquare  KitchenSquare  Floor  \\\n",
       "0  14038         35    2.0  47.982      29.443            6.0      7   \n",
       "1  15053         41    3.0  65.684      40.050            8.0      7   \n",
       "2   5809         58    2.0  53.353      52.732            9.0      8   \n",
       "3  10783         99    1.0  39.649      23.776            7.0     11   \n",
       "4  12915         59    3.0  80.384      46.684           12.0      5   \n",
       "\n",
       "   HouseFloor  HouseYear  Ecology_1 Ecology_2 Ecology_3  Social_1  Social_2  \\\n",
       "0         9.0       1969  8.904e-02         B         B        33      7976   \n",
       "1         9.0       1978  6.999e-05         B         B        46     10309   \n",
       "2        17.0       1977  4.379e-01         B         B        23      5735   \n",
       "3        12.0       1976  1.234e-02         B         B        35      5776   \n",
       "4        17.0       2011  3.095e-01         B         B        35      7715   \n",
       "\n",
       "   Social_3  Healthcare_1  Helthcare_2  Shops_1 Shops_2       Price  \\\n",
       "0         5         990.0            0       11       B  184966.931   \n",
       "1         1         240.0            1       16       B  300009.450   \n",
       "2         3        1084.0            0        5       B  175616.227   \n",
       "3         1        2078.0            2        4       B  150226.532   \n",
       "4         4         990.0            0        6       B  215898.448   \n",
       "\n",
       "   Ecology_2_bin  Ecology_3_bin  Shops_2_bin  DistrictSize  \n",
       "0              1              1            1            20  \n",
       "1              1              1            1            86  \n",
       "2              1              1            1           146  \n",
       "3              1              1            1            95  \n",
       "4              1              1            1            54  "
      ]
     },
     "execution_count": 60,
     "metadata": {},
     "output_type": "execute_result"
    }
   ],
   "source": [
    "train_df = train_df.merge(district_size, on='DistrictId', how='left')\n",
    "train_df.head()"
   ]
  },
  {
   "cell_type": "code",
   "execution_count": 61,
   "metadata": {},
   "outputs": [
    {
     "data": {
      "text/html": [
       "<div>\n",
       "<style scoped>\n",
       "    .dataframe tbody tr th:only-of-type {\n",
       "        vertical-align: middle;\n",
       "    }\n",
       "\n",
       "    .dataframe tbody tr th {\n",
       "        vertical-align: top;\n",
       "    }\n",
       "\n",
       "    .dataframe thead th {\n",
       "        text-align: right;\n",
       "    }\n",
       "</style>\n",
       "<table border=\"1\" class=\"dataframe\">\n",
       "  <thead>\n",
       "    <tr style=\"text-align: right;\">\n",
       "      <th></th>\n",
       "      <th>Id</th>\n",
       "      <th>DistrictId</th>\n",
       "      <th>Rooms</th>\n",
       "      <th>Square</th>\n",
       "      <th>LifeSquare</th>\n",
       "      <th>KitchenSquare</th>\n",
       "      <th>Floor</th>\n",
       "      <th>HouseFloor</th>\n",
       "      <th>HouseYear</th>\n",
       "      <th>Ecology_1</th>\n",
       "      <th>Ecology_2</th>\n",
       "      <th>Ecology_3</th>\n",
       "      <th>Social_1</th>\n",
       "      <th>Social_2</th>\n",
       "      <th>Social_3</th>\n",
       "      <th>Healthcare_1</th>\n",
       "      <th>Helthcare_2</th>\n",
       "      <th>Shops_1</th>\n",
       "      <th>Shops_2</th>\n",
       "      <th>Ecology_2_bin</th>\n",
       "      <th>Ecology_3_bin</th>\n",
       "      <th>Shops_2_bin</th>\n",
       "      <th>DistrictSize</th>\n",
       "    </tr>\n",
       "  </thead>\n",
       "  <tbody>\n",
       "    <tr>\n",
       "      <td>0</td>\n",
       "      <td>725</td>\n",
       "      <td>58</td>\n",
       "      <td>2.0</td>\n",
       "      <td>49.883</td>\n",
       "      <td>33.433</td>\n",
       "      <td>6.0</td>\n",
       "      <td>6</td>\n",
       "      <td>14.0</td>\n",
       "      <td>1972</td>\n",
       "      <td>0.310</td>\n",
       "      <td>B</td>\n",
       "      <td>B</td>\n",
       "      <td>11</td>\n",
       "      <td>2748</td>\n",
       "      <td>1</td>\n",
       "      <td>900.0</td>\n",
       "      <td>0</td>\n",
       "      <td>0</td>\n",
       "      <td>B</td>\n",
       "      <td>1</td>\n",
       "      <td>1</td>\n",
       "      <td>1</td>\n",
       "      <td>91</td>\n",
       "    </tr>\n",
       "    <tr>\n",
       "      <td>1</td>\n",
       "      <td>15856</td>\n",
       "      <td>74</td>\n",
       "      <td>2.0</td>\n",
       "      <td>69.263</td>\n",
       "      <td>54.883</td>\n",
       "      <td>3.0</td>\n",
       "      <td>1</td>\n",
       "      <td>1.0</td>\n",
       "      <td>1977</td>\n",
       "      <td>0.076</td>\n",
       "      <td>B</td>\n",
       "      <td>B</td>\n",
       "      <td>6</td>\n",
       "      <td>1437</td>\n",
       "      <td>3</td>\n",
       "      <td>900.0</td>\n",
       "      <td>0</td>\n",
       "      <td>2</td>\n",
       "      <td>B</td>\n",
       "      <td>1</td>\n",
       "      <td>1</td>\n",
       "      <td>1</td>\n",
       "      <td>61</td>\n",
       "    </tr>\n",
       "    <tr>\n",
       "      <td>2</td>\n",
       "      <td>5480</td>\n",
       "      <td>190</td>\n",
       "      <td>1.0</td>\n",
       "      <td>13.598</td>\n",
       "      <td>15.948</td>\n",
       "      <td>12.0</td>\n",
       "      <td>2</td>\n",
       "      <td>5.0</td>\n",
       "      <td>1909</td>\n",
       "      <td>0.000</td>\n",
       "      <td>B</td>\n",
       "      <td>B</td>\n",
       "      <td>30</td>\n",
       "      <td>7538</td>\n",
       "      <td>87</td>\n",
       "      <td>4702.0</td>\n",
       "      <td>5</td>\n",
       "      <td>5</td>\n",
       "      <td>B</td>\n",
       "      <td>1</td>\n",
       "      <td>1</td>\n",
       "      <td>1</td>\n",
       "      <td>2</td>\n",
       "    </tr>\n",
       "    <tr>\n",
       "      <td>3</td>\n",
       "      <td>15664</td>\n",
       "      <td>47</td>\n",
       "      <td>2.0</td>\n",
       "      <td>73.047</td>\n",
       "      <td>51.941</td>\n",
       "      <td>9.0</td>\n",
       "      <td>22</td>\n",
       "      <td>22.0</td>\n",
       "      <td>2007</td>\n",
       "      <td>0.102</td>\n",
       "      <td>B</td>\n",
       "      <td>B</td>\n",
       "      <td>23</td>\n",
       "      <td>4583</td>\n",
       "      <td>3</td>\n",
       "      <td>900.0</td>\n",
       "      <td>3</td>\n",
       "      <td>3</td>\n",
       "      <td>B</td>\n",
       "      <td>1</td>\n",
       "      <td>1</td>\n",
       "      <td>1</td>\n",
       "      <td>49</td>\n",
       "    </tr>\n",
       "    <tr>\n",
       "      <td>4</td>\n",
       "      <td>14275</td>\n",
       "      <td>27</td>\n",
       "      <td>1.0</td>\n",
       "      <td>47.527</td>\n",
       "      <td>43.388</td>\n",
       "      <td>3.0</td>\n",
       "      <td>17</td>\n",
       "      <td>17.0</td>\n",
       "      <td>2017</td>\n",
       "      <td>0.072</td>\n",
       "      <td>B</td>\n",
       "      <td>B</td>\n",
       "      <td>2</td>\n",
       "      <td>629</td>\n",
       "      <td>1</td>\n",
       "      <td>900.0</td>\n",
       "      <td>0</td>\n",
       "      <td>0</td>\n",
       "      <td>A</td>\n",
       "      <td>1</td>\n",
       "      <td>1</td>\n",
       "      <td>0</td>\n",
       "      <td>391</td>\n",
       "    </tr>\n",
       "  </tbody>\n",
       "</table>\n",
       "</div>"
      ],
      "text/plain": [
       "      Id DistrictId  Rooms  Square  LifeSquare  KitchenSquare  Floor  \\\n",
       "0    725         58    2.0  49.883      33.433            6.0      6   \n",
       "1  15856         74    2.0  69.263      54.883            3.0      1   \n",
       "2   5480        190    1.0  13.598      15.948           12.0      2   \n",
       "3  15664         47    2.0  73.047      51.941            9.0     22   \n",
       "4  14275         27    1.0  47.527      43.388            3.0     17   \n",
       "\n",
       "   HouseFloor  HouseYear  Ecology_1 Ecology_2 Ecology_3  Social_1  Social_2  \\\n",
       "0        14.0       1972      0.310         B         B        11      2748   \n",
       "1         1.0       1977      0.076         B         B         6      1437   \n",
       "2         5.0       1909      0.000         B         B        30      7538   \n",
       "3        22.0       2007      0.102         B         B        23      4583   \n",
       "4        17.0       2017      0.072         B         B         2       629   \n",
       "\n",
       "   Social_3  Healthcare_1  Helthcare_2  Shops_1 Shops_2  Ecology_2_bin  \\\n",
       "0         1         900.0            0        0       B              1   \n",
       "1         3         900.0            0        2       B              1   \n",
       "2        87        4702.0            5        5       B              1   \n",
       "3         3         900.0            3        3       B              1   \n",
       "4         1         900.0            0        0       A              1   \n",
       "\n",
       "   Ecology_3_bin  Shops_2_bin  DistrictSize  \n",
       "0              1            1            91  \n",
       "1              1            1            61  \n",
       "2              1            1             2  \n",
       "3              1            1            49  \n",
       "4              1            0           391  "
      ]
     },
     "execution_count": 61,
     "metadata": {},
     "output_type": "execute_result"
    }
   ],
   "source": [
    "test_df = test_df.merge(test_district_size, on='DistrictId', how='left')\n",
    "test_df.head()"
   ]
  },
  {
   "cell_type": "code",
   "execution_count": 62,
   "metadata": {},
   "outputs": [
    {
     "data": {
      "text/plain": [
       "False    4938\n",
       "True     3943\n",
       "Name: DistrictSize, dtype: int64"
      ]
     },
     "execution_count": 62,
     "metadata": {},
     "output_type": "execute_result"
    }
   ],
   "source": [
    "(train_df['DistrictSize'] > 100).value_counts()"
   ]
  },
  {
   "cell_type": "code",
   "execution_count": 63,
   "metadata": {},
   "outputs": [],
   "source": [
    "train_df['IsDistrictLarge'] = (train_df['DistrictSize'] > 100).astype(int)"
   ]
  },
  {
   "cell_type": "code",
   "execution_count": 64,
   "metadata": {},
   "outputs": [
    {
     "data": {
      "text/plain": [
       "False    3375\n",
       "True     1625\n",
       "Name: DistrictSize, dtype: int64"
      ]
     },
     "execution_count": 64,
     "metadata": {},
     "output_type": "execute_result"
    }
   ],
   "source": [
    "(test_df['DistrictSize'] > 100).value_counts()"
   ]
  },
  {
   "cell_type": "code",
   "execution_count": 65,
   "metadata": {},
   "outputs": [],
   "source": [
    "test_df['IsDistrictLarge'] = (test_df['DistrictSize'] > 100).astype(int)"
   ]
  },
  {
   "cell_type": "markdown",
   "metadata": {},
   "source": [
    "**MedPriceByDistrict**"
   ]
  },
  {
   "cell_type": "code",
   "execution_count": 66,
   "metadata": {},
   "outputs": [
    {
     "data": {
      "text/html": [
       "<div>\n",
       "<style scoped>\n",
       "    .dataframe tbody tr th:only-of-type {\n",
       "        vertical-align: middle;\n",
       "    }\n",
       "\n",
       "    .dataframe tbody tr th {\n",
       "        vertical-align: top;\n",
       "    }\n",
       "\n",
       "    .dataframe thead th {\n",
       "        text-align: right;\n",
       "    }\n",
       "</style>\n",
       "<table border=\"1\" class=\"dataframe\">\n",
       "  <thead>\n",
       "    <tr style=\"text-align: right;\">\n",
       "      <th></th>\n",
       "      <th>DistrictId</th>\n",
       "      <th>Rooms</th>\n",
       "      <th>MedPriceByDistrict</th>\n",
       "    </tr>\n",
       "  </thead>\n",
       "  <tbody>\n",
       "    <tr>\n",
       "      <td>0</td>\n",
       "      <td>0</td>\n",
       "      <td>1.0</td>\n",
       "      <td>147258.737</td>\n",
       "    </tr>\n",
       "    <tr>\n",
       "      <td>1</td>\n",
       "      <td>0</td>\n",
       "      <td>2.0</td>\n",
       "      <td>176210.812</td>\n",
       "    </tr>\n",
       "    <tr>\n",
       "      <td>2</td>\n",
       "      <td>0</td>\n",
       "      <td>3.0</td>\n",
       "      <td>300610.359</td>\n",
       "    </tr>\n",
       "    <tr>\n",
       "      <td>3</td>\n",
       "      <td>1</td>\n",
       "      <td>1.0</td>\n",
       "      <td>146154.352</td>\n",
       "    </tr>\n",
       "    <tr>\n",
       "      <td>4</td>\n",
       "      <td>1</td>\n",
       "      <td>2.0</td>\n",
       "      <td>202944.331</td>\n",
       "    </tr>\n",
       "  </tbody>\n",
       "</table>\n",
       "</div>"
      ],
      "text/plain": [
       "  DistrictId  Rooms  MedPriceByDistrict\n",
       "0          0    1.0          147258.737\n",
       "1          0    2.0          176210.812\n",
       "2          0    3.0          300610.359\n",
       "3          1    1.0          146154.352\n",
       "4          1    2.0          202944.331"
      ]
     },
     "execution_count": 66,
     "metadata": {},
     "output_type": "execute_result"
    }
   ],
   "source": [
    "med_price_by_district = train_df.groupby(['DistrictId', 'Rooms'], as_index=False).agg({'Price':'median'})\\\n",
    "                       .rename(columns={'Price':'MedPriceByDistrict'})\n",
    "\n",
    "med_price_by_district.head()"
   ]
  },
  {
   "cell_type": "code",
   "execution_count": 67,
   "metadata": {},
   "outputs": [
    {
     "data": {
      "text/html": [
       "<div>\n",
       "<style scoped>\n",
       "    .dataframe tbody tr th:only-of-type {\n",
       "        vertical-align: middle;\n",
       "    }\n",
       "\n",
       "    .dataframe tbody tr th {\n",
       "        vertical-align: top;\n",
       "    }\n",
       "\n",
       "    .dataframe thead th {\n",
       "        text-align: right;\n",
       "    }\n",
       "</style>\n",
       "<table border=\"1\" class=\"dataframe\">\n",
       "  <thead>\n",
       "    <tr style=\"text-align: right;\">\n",
       "      <th></th>\n",
       "      <th>Id</th>\n",
       "      <th>DistrictId</th>\n",
       "      <th>Rooms</th>\n",
       "      <th>Square</th>\n",
       "      <th>LifeSquare</th>\n",
       "      <th>KitchenSquare</th>\n",
       "      <th>Floor</th>\n",
       "      <th>HouseFloor</th>\n",
       "      <th>HouseYear</th>\n",
       "      <th>Ecology_1</th>\n",
       "      <th>Ecology_2</th>\n",
       "      <th>Ecology_3</th>\n",
       "      <th>Social_1</th>\n",
       "      <th>Social_2</th>\n",
       "      <th>Social_3</th>\n",
       "      <th>Healthcare_1</th>\n",
       "      <th>Helthcare_2</th>\n",
       "      <th>Shops_1</th>\n",
       "      <th>Shops_2</th>\n",
       "      <th>Price</th>\n",
       "      <th>Ecology_2_bin</th>\n",
       "      <th>Ecology_3_bin</th>\n",
       "      <th>Shops_2_bin</th>\n",
       "      <th>DistrictSize</th>\n",
       "      <th>IsDistrictLarge</th>\n",
       "      <th>MedPriceByDistrict</th>\n",
       "    </tr>\n",
       "  </thead>\n",
       "  <tbody>\n",
       "    <tr>\n",
       "      <td>0</td>\n",
       "      <td>14038</td>\n",
       "      <td>35</td>\n",
       "      <td>2.0</td>\n",
       "      <td>47.982</td>\n",
       "      <td>29.443</td>\n",
       "      <td>6.0</td>\n",
       "      <td>7</td>\n",
       "      <td>9.0</td>\n",
       "      <td>1969</td>\n",
       "      <td>8.904e-02</td>\n",
       "      <td>B</td>\n",
       "      <td>B</td>\n",
       "      <td>33</td>\n",
       "      <td>7976</td>\n",
       "      <td>5</td>\n",
       "      <td>990.0</td>\n",
       "      <td>0</td>\n",
       "      <td>11</td>\n",
       "      <td>B</td>\n",
       "      <td>184966.931</td>\n",
       "      <td>1</td>\n",
       "      <td>1</td>\n",
       "      <td>1</td>\n",
       "      <td>20</td>\n",
       "      <td>0</td>\n",
       "      <td>203384.328</td>\n",
       "    </tr>\n",
       "    <tr>\n",
       "      <td>1</td>\n",
       "      <td>15053</td>\n",
       "      <td>41</td>\n",
       "      <td>3.0</td>\n",
       "      <td>65.684</td>\n",
       "      <td>40.050</td>\n",
       "      <td>8.0</td>\n",
       "      <td>7</td>\n",
       "      <td>9.0</td>\n",
       "      <td>1978</td>\n",
       "      <td>6.999e-05</td>\n",
       "      <td>B</td>\n",
       "      <td>B</td>\n",
       "      <td>46</td>\n",
       "      <td>10309</td>\n",
       "      <td>1</td>\n",
       "      <td>240.0</td>\n",
       "      <td>1</td>\n",
       "      <td>16</td>\n",
       "      <td>B</td>\n",
       "      <td>300009.450</td>\n",
       "      <td>1</td>\n",
       "      <td>1</td>\n",
       "      <td>1</td>\n",
       "      <td>86</td>\n",
       "      <td>0</td>\n",
       "      <td>300009.450</td>\n",
       "    </tr>\n",
       "    <tr>\n",
       "      <td>2</td>\n",
       "      <td>5809</td>\n",
       "      <td>58</td>\n",
       "      <td>2.0</td>\n",
       "      <td>53.353</td>\n",
       "      <td>52.732</td>\n",
       "      <td>9.0</td>\n",
       "      <td>8</td>\n",
       "      <td>17.0</td>\n",
       "      <td>1977</td>\n",
       "      <td>4.379e-01</td>\n",
       "      <td>B</td>\n",
       "      <td>B</td>\n",
       "      <td>23</td>\n",
       "      <td>5735</td>\n",
       "      <td>3</td>\n",
       "      <td>1084.0</td>\n",
       "      <td>0</td>\n",
       "      <td>5</td>\n",
       "      <td>B</td>\n",
       "      <td>175616.227</td>\n",
       "      <td>1</td>\n",
       "      <td>1</td>\n",
       "      <td>1</td>\n",
       "      <td>146</td>\n",
       "      <td>1</td>\n",
       "      <td>169246.116</td>\n",
       "    </tr>\n",
       "    <tr>\n",
       "      <td>3</td>\n",
       "      <td>10783</td>\n",
       "      <td>99</td>\n",
       "      <td>1.0</td>\n",
       "      <td>39.649</td>\n",
       "      <td>23.776</td>\n",
       "      <td>7.0</td>\n",
       "      <td>11</td>\n",
       "      <td>12.0</td>\n",
       "      <td>1976</td>\n",
       "      <td>1.234e-02</td>\n",
       "      <td>B</td>\n",
       "      <td>B</td>\n",
       "      <td>35</td>\n",
       "      <td>5776</td>\n",
       "      <td>1</td>\n",
       "      <td>2078.0</td>\n",
       "      <td>2</td>\n",
       "      <td>4</td>\n",
       "      <td>B</td>\n",
       "      <td>150226.532</td>\n",
       "      <td>1</td>\n",
       "      <td>1</td>\n",
       "      <td>1</td>\n",
       "      <td>95</td>\n",
       "      <td>0</td>\n",
       "      <td>158791.018</td>\n",
       "    </tr>\n",
       "    <tr>\n",
       "      <td>4</td>\n",
       "      <td>12915</td>\n",
       "      <td>59</td>\n",
       "      <td>3.0</td>\n",
       "      <td>80.384</td>\n",
       "      <td>46.684</td>\n",
       "      <td>12.0</td>\n",
       "      <td>5</td>\n",
       "      <td>17.0</td>\n",
       "      <td>2011</td>\n",
       "      <td>3.095e-01</td>\n",
       "      <td>B</td>\n",
       "      <td>B</td>\n",
       "      <td>35</td>\n",
       "      <td>7715</td>\n",
       "      <td>4</td>\n",
       "      <td>990.0</td>\n",
       "      <td>0</td>\n",
       "      <td>6</td>\n",
       "      <td>B</td>\n",
       "      <td>215898.448</td>\n",
       "      <td>1</td>\n",
       "      <td>1</td>\n",
       "      <td>1</td>\n",
       "      <td>54</td>\n",
       "      <td>0</td>\n",
       "      <td>384517.540</td>\n",
       "    </tr>\n",
       "  </tbody>\n",
       "</table>\n",
       "</div>"
      ],
      "text/plain": [
       "      Id DistrictId  Rooms  Square  LifeSquare  KitchenSquare  Floor  \\\n",
       "0  14038         35    2.0  47.982      29.443            6.0      7   \n",
       "1  15053         41    3.0  65.684      40.050            8.0      7   \n",
       "2   5809         58    2.0  53.353      52.732            9.0      8   \n",
       "3  10783         99    1.0  39.649      23.776            7.0     11   \n",
       "4  12915         59    3.0  80.384      46.684           12.0      5   \n",
       "\n",
       "   HouseFloor  HouseYear  Ecology_1 Ecology_2 Ecology_3  Social_1  Social_2  \\\n",
       "0         9.0       1969  8.904e-02         B         B        33      7976   \n",
       "1         9.0       1978  6.999e-05         B         B        46     10309   \n",
       "2        17.0       1977  4.379e-01         B         B        23      5735   \n",
       "3        12.0       1976  1.234e-02         B         B        35      5776   \n",
       "4        17.0       2011  3.095e-01         B         B        35      7715   \n",
       "\n",
       "   Social_3  Healthcare_1  Helthcare_2  Shops_1 Shops_2       Price  \\\n",
       "0         5         990.0            0       11       B  184966.931   \n",
       "1         1         240.0            1       16       B  300009.450   \n",
       "2         3        1084.0            0        5       B  175616.227   \n",
       "3         1        2078.0            2        4       B  150226.532   \n",
       "4         4         990.0            0        6       B  215898.448   \n",
       "\n",
       "   Ecology_2_bin  Ecology_3_bin  Shops_2_bin  DistrictSize  IsDistrictLarge  \\\n",
       "0              1              1            1            20                0   \n",
       "1              1              1            1            86                0   \n",
       "2              1              1            1           146                1   \n",
       "3              1              1            1            95                0   \n",
       "4              1              1            1            54                0   \n",
       "\n",
       "   MedPriceByDistrict  \n",
       "0          203384.328  \n",
       "1          300009.450  \n",
       "2          169246.116  \n",
       "3          158791.018  \n",
       "4          384517.540  "
      ]
     },
     "execution_count": 67,
     "metadata": {},
     "output_type": "execute_result"
    }
   ],
   "source": [
    "train_df = train_df.merge(med_price_by_district, on=['DistrictId', 'Rooms'], how='left')\n",
    "train_df.head()"
   ]
  },
  {
   "cell_type": "code",
   "execution_count": 68,
   "metadata": {},
   "outputs": [
    {
     "data": {
      "text/plain": [
       "0"
      ]
     },
     "execution_count": 68,
     "metadata": {},
     "output_type": "execute_result"
    }
   ],
   "source": [
    "train_df['MedPriceByDistrict'].isnull().sum()"
   ]
  },
  {
   "cell_type": "markdown",
   "metadata": {},
   "source": [
    "### Отбор признаков"
   ]
  },
  {
   "cell_type": "code",
   "execution_count": 69,
   "metadata": {},
   "outputs": [
    {
     "data": {
      "text/plain": [
       "['Id',\n",
       " 'DistrictId',\n",
       " 'Rooms',\n",
       " 'Square',\n",
       " 'LifeSquare',\n",
       " 'KitchenSquare',\n",
       " 'Floor',\n",
       " 'HouseFloor',\n",
       " 'HouseYear',\n",
       " 'Ecology_1',\n",
       " 'Ecology_2',\n",
       " 'Ecology_3',\n",
       " 'Social_1',\n",
       " 'Social_2',\n",
       " 'Social_3',\n",
       " 'Healthcare_1',\n",
       " 'Helthcare_2',\n",
       " 'Shops_1',\n",
       " 'Shops_2',\n",
       " 'Price',\n",
       " 'Ecology_2_bin',\n",
       " 'Ecology_3_bin',\n",
       " 'Shops_2_bin',\n",
       " 'DistrictSize',\n",
       " 'IsDistrictLarge',\n",
       " 'MedPriceByDistrict']"
      ]
     },
     "execution_count": 69,
     "metadata": {},
     "output_type": "execute_result"
    }
   ],
   "source": [
    "train_df.columns.tolist()"
   ]
  },
  {
   "cell_type": "code",
   "execution_count": 70,
   "metadata": {},
   "outputs": [],
   "source": [
    "feature_names = ['Rooms', 'Square', 'LifeSquare', 'KitchenSquare', 'Floor', 'HouseFloor', 'HouseYear',\n",
    "                 'Ecology_1', 'Ecology_2_bin', 'Ecology_3_bin', 'Social_1', 'Social_2', 'Social_3',\n",
    "                 'Healthcare_1', 'Helthcare_2', 'Shops_1', 'Shops_2_bin']\n",
    "\n",
    "new_feature_names = ['IsDistrictLarge', 'MedPriceByDistrict']\n",
    "new_feature_names_for_test = ['IsDistrictLarge']\n",
    "\n",
    "target_name = 'Price'"
   ]
  },
  {
   "cell_type": "markdown",
   "metadata": {},
   "source": [
    "### Разбиение на train и val"
   ]
  },
  {
   "cell_type": "code",
   "execution_count": 71,
   "metadata": {},
   "outputs": [],
   "source": [
    "X = train_df[feature_names + new_feature_names_for_test]\n",
    "y = train_df[target_name]\n",
    "X_final = test_df[feature_names + new_feature_names_for_test]\n",
    "test_df['Price'] = 0\n",
    "y_final = test_df[target_name]"
   ]
  },
  {
   "cell_type": "code",
   "execution_count": 72,
   "metadata": {},
   "outputs": [],
   "source": [
    "X_train, X_test, y_train, y_test = train_test_split(X, y, test_size=0.33, shuffle=True, random_state=21)"
   ]
  },
  {
   "cell_type": "markdown",
   "metadata": {},
   "source": [
    "### Построение модели"
   ]
  },
  {
   "cell_type": "markdown",
   "metadata": {},
   "source": [
    "**Обучение и оценка модели**"
   ]
  },
  {
   "cell_type": "code",
   "execution_count": 73,
   "metadata": {},
   "outputs": [
    {
     "data": {
      "text/plain": [
       "RandomForestRegressor(bootstrap=True, criterion='mse', max_depth=None,\n",
       "                      max_features='auto', max_leaf_nodes=None,\n",
       "                      min_impurity_decrease=0.0, min_impurity_split=None,\n",
       "                      min_samples_leaf=1, min_samples_split=2,\n",
       "                      min_weight_fraction_leaf=0.0, n_estimators=10,\n",
       "                      n_jobs=None, oob_score=False, random_state=21, verbose=0,\n",
       "                      warm_start=False)"
      ]
     },
     "execution_count": 73,
     "metadata": {},
     "output_type": "execute_result"
    }
   ],
   "source": [
    "rf_model = RandomForestRegressor(random_state=21)\n",
    "rf_model.fit(X_train, y_train)"
   ]
  },
  {
   "cell_type": "markdown",
   "metadata": {},
   "source": [
    "**Отложенная выборка**"
   ]
  },
  {
   "cell_type": "code",
   "execution_count": null,
   "metadata": {},
   "outputs": [],
   "source": []
  },
  {
   "cell_type": "code",
   "execution_count": 74,
   "metadata": {},
   "outputs": [
    {
     "name": "stdout",
     "output_type": "stream",
     "text": [
      "Train R2:\t0.947\n",
      "Valid R2:\t0.661\n"
     ]
    },
    {
     "data": {
      "image/png": "[encoded data removed]",
      "text/plain": [
       "<Figure size 1296x720 with 2 Axes>"
      ]
     },
     "metadata": {
      "needs_background": "light"
     },
     "output_type": "display_data"
    }
   ],
   "source": [
    "y_train_preds = rf_model.predict(X_train)\n",
    "y_test_preds = rf_model.predict(X_test)\n",
    "\n",
    "evaluate_preds(y_train, y_train_preds, y_test, y_test_preds)"
   ]
  },
  {
   "cell_type": "markdown",
   "metadata": {},
   "source": [
    "**Перекрёстная проверка**"
   ]
  },
  {
   "cell_type": "code",
   "execution_count": 75,
   "metadata": {},
   "outputs": [
    {
     "data": {
      "text/plain": [
       "array([0.65634907, 0.69563885, 0.71487373])"
      ]
     },
     "execution_count": 75,
     "metadata": {},
     "output_type": "execute_result"
    }
   ],
   "source": [
    "cv_score = cross_val_score(rf_model, X, y, scoring='r2', cv=KFold(n_splits=3, shuffle=True, random_state=21))\n",
    "cv_score"
   ]
  },
  {
   "cell_type": "code",
   "execution_count": 76,
   "metadata": {},
   "outputs": [
    {
     "data": {
      "text/plain": [
       "0.6889538819563613"
      ]
     },
     "execution_count": 76,
     "metadata": {},
     "output_type": "execute_result"
    }
   ],
   "source": [
    "cv_score.mean()"
   ]
  },
  {
   "cell_type": "markdown",
   "metadata": {},
   "source": [
    "**Формирование предсказания для тестового датафрейма и выгрузка результатов в csv**"
   ]
  },
  {
   "cell_type": "code",
   "execution_count": 77,
   "metadata": {},
   "outputs": [
    {
     "data": {
      "text/html": [
       "<div>\n",
       "<style scoped>\n",
       "    .dataframe tbody tr th:only-of-type {\n",
       "        vertical-align: middle;\n",
       "    }\n",
       "\n",
       "    .dataframe tbody tr th {\n",
       "        vertical-align: top;\n",
       "    }\n",
       "\n",
       "    .dataframe thead th {\n",
       "        text-align: right;\n",
       "    }\n",
       "</style>\n",
       "<table border=\"1\" class=\"dataframe\">\n",
       "  <thead>\n",
       "    <tr style=\"text-align: right;\">\n",
       "      <th></th>\n",
       "      <th>Rooms</th>\n",
       "      <th>Square</th>\n",
       "      <th>LifeSquare</th>\n",
       "      <th>KitchenSquare</th>\n",
       "      <th>Floor</th>\n",
       "      <th>HouseFloor</th>\n",
       "      <th>HouseYear</th>\n",
       "      <th>Ecology_1</th>\n",
       "      <th>Social_1</th>\n",
       "      <th>Social_2</th>\n",
       "      <th>Social_3</th>\n",
       "      <th>Healthcare_1</th>\n",
       "      <th>Helthcare_2</th>\n",
       "      <th>Shops_1</th>\n",
       "      <th>Ecology_2_bin</th>\n",
       "      <th>Ecology_3_bin</th>\n",
       "      <th>Shops_2_bin</th>\n",
       "      <th>DistrictSize</th>\n",
       "      <th>IsDistrictLarge</th>\n",
       "      <th>Price</th>\n",
       "    </tr>\n",
       "  </thead>\n",
       "  <tbody>\n",
       "    <tr>\n",
       "      <td>count</td>\n",
       "      <td>5000.000</td>\n",
       "      <td>5000.000</td>\n",
       "      <td>5000.000</td>\n",
       "      <td>5000.000</td>\n",
       "      <td>5000.000</td>\n",
       "      <td>5000.000</td>\n",
       "      <td>5000.000</td>\n",
       "      <td>5000.000</td>\n",
       "      <td>5000.000</td>\n",
       "      <td>5000.000</td>\n",
       "      <td>5000.000</td>\n",
       "      <td>5000.000</td>\n",
       "      <td>5000.000</td>\n",
       "      <td>5000.000</td>\n",
       "      <td>5000.000</td>\n",
       "      <td>5000.00</td>\n",
       "      <td>5000.000</td>\n",
       "      <td>5000.000</td>\n",
       "      <td>5000.000</td>\n",
       "      <td>5000.0</td>\n",
       "    </tr>\n",
       "    <tr>\n",
       "      <td>mean</td>\n",
       "      <td>1.908</td>\n",
       "      <td>56.450</td>\n",
       "      <td>38.251</td>\n",
       "      <td>6.655</td>\n",
       "      <td>7.475</td>\n",
       "      <td>12.915</td>\n",
       "      <td>1984.393</td>\n",
       "      <td>0.120</td>\n",
       "      <td>24.934</td>\n",
       "      <td>5406.900</td>\n",
       "      <td>8.263</td>\n",
       "      <td>1029.396</td>\n",
       "      <td>1.319</td>\n",
       "      <td>4.243</td>\n",
       "      <td>0.990</td>\n",
       "      <td>0.97</td>\n",
       "      <td>0.918</td>\n",
       "      <td>115.537</td>\n",
       "      <td>0.325</td>\n",
       "      <td>0.0</td>\n",
       "    </tr>\n",
       "    <tr>\n",
       "      <td>std</td>\n",
       "      <td>0.810</td>\n",
       "      <td>19.093</td>\n",
       "      <td>18.225</td>\n",
       "      <td>9.641</td>\n",
       "      <td>5.157</td>\n",
       "      <td>6.469</td>\n",
       "      <td>18.573</td>\n",
       "      <td>0.120</td>\n",
       "      <td>17.532</td>\n",
       "      <td>4026.615</td>\n",
       "      <td>23.864</td>\n",
       "      <td>766.595</td>\n",
       "      <td>1.480</td>\n",
       "      <td>4.777</td>\n",
       "      <td>0.098</td>\n",
       "      <td>0.17</td>\n",
       "      <td>0.275</td>\n",
       "      <td>127.382</td>\n",
       "      <td>0.468</td>\n",
       "      <td>0.0</td>\n",
       "    </tr>\n",
       "    <tr>\n",
       "      <td>min</td>\n",
       "      <td>1.000</td>\n",
       "      <td>1.379</td>\n",
       "      <td>-10.054</td>\n",
       "      <td>3.000</td>\n",
       "      <td>1.000</td>\n",
       "      <td>1.000</td>\n",
       "      <td>1908.000</td>\n",
       "      <td>0.000</td>\n",
       "      <td>0.000</td>\n",
       "      <td>168.000</td>\n",
       "      <td>0.000</td>\n",
       "      <td>0.000</td>\n",
       "      <td>0.000</td>\n",
       "      <td>0.000</td>\n",
       "      <td>0.000</td>\n",
       "      <td>0.00</td>\n",
       "      <td>0.000</td>\n",
       "      <td>1.000</td>\n",
       "      <td>0.000</td>\n",
       "      <td>0.0</td>\n",
       "    </tr>\n",
       "    <tr>\n",
       "      <td>25%</td>\n",
       "      <td>1.000</td>\n",
       "      <td>41.906</td>\n",
       "      <td>24.427</td>\n",
       "      <td>3.000</td>\n",
       "      <td>4.000</td>\n",
       "      <td>9.000</td>\n",
       "      <td>1973.000</td>\n",
       "      <td>0.020</td>\n",
       "      <td>6.000</td>\n",
       "      <td>1564.000</td>\n",
       "      <td>0.000</td>\n",
       "      <td>810.000</td>\n",
       "      <td>0.000</td>\n",
       "      <td>1.000</td>\n",
       "      <td>1.000</td>\n",
       "      <td>1.00</td>\n",
       "      <td>1.000</td>\n",
       "      <td>27.000</td>\n",
       "      <td>0.000</td>\n",
       "      <td>0.0</td>\n",
       "    </tr>\n",
       "    <tr>\n",
       "      <td>50%</td>\n",
       "      <td>2.000</td>\n",
       "      <td>52.921</td>\n",
       "      <td>34.071</td>\n",
       "      <td>6.000</td>\n",
       "      <td>6.000</td>\n",
       "      <td>12.000</td>\n",
       "      <td>1977.000</td>\n",
       "      <td>0.072</td>\n",
       "      <td>25.000</td>\n",
       "      <td>5285.000</td>\n",
       "      <td>2.000</td>\n",
       "      <td>900.000</td>\n",
       "      <td>1.000</td>\n",
       "      <td>3.000</td>\n",
       "      <td>1.000</td>\n",
       "      <td>1.00</td>\n",
       "      <td>1.000</td>\n",
       "      <td>49.000</td>\n",
       "      <td>0.000</td>\n",
       "      <td>0.0</td>\n",
       "    </tr>\n",
       "    <tr>\n",
       "      <td>75%</td>\n",
       "      <td>2.000</td>\n",
       "      <td>66.285</td>\n",
       "      <td>47.496</td>\n",
       "      <td>9.000</td>\n",
       "      <td>10.000</td>\n",
       "      <td>17.000</td>\n",
       "      <td>2000.000</td>\n",
       "      <td>0.196</td>\n",
       "      <td>36.000</td>\n",
       "      <td>7287.000</td>\n",
       "      <td>5.000</td>\n",
       "      <td>990.000</td>\n",
       "      <td>2.000</td>\n",
       "      <td>6.000</td>\n",
       "      <td>1.000</td>\n",
       "      <td>1.00</td>\n",
       "      <td>1.000</td>\n",
       "      <td>257.000</td>\n",
       "      <td>1.000</td>\n",
       "      <td>0.0</td>\n",
       "    </tr>\n",
       "    <tr>\n",
       "      <td>max</td>\n",
       "      <td>6.000</td>\n",
       "      <td>223.454</td>\n",
       "      <td>303.071</td>\n",
       "      <td>620.000</td>\n",
       "      <td>46.000</td>\n",
       "      <td>99.000</td>\n",
       "      <td>2020.000</td>\n",
       "      <td>0.522</td>\n",
       "      <td>74.000</td>\n",
       "      <td>19083.000</td>\n",
       "      <td>141.000</td>\n",
       "      <td>4849.000</td>\n",
       "      <td>6.000</td>\n",
       "      <td>23.000</td>\n",
       "      <td>1.000</td>\n",
       "      <td>1.00</td>\n",
       "      <td>1.000</td>\n",
       "      <td>391.000</td>\n",
       "      <td>1.000</td>\n",
       "      <td>0.0</td>\n",
       "    </tr>\n",
       "  </tbody>\n",
       "</table>\n",
       "</div>"
      ],
      "text/plain": [
       "          Rooms    Square  LifeSquare  KitchenSquare     Floor  HouseFloor  \\\n",
       "count  5000.000  5000.000    5000.000       5000.000  5000.000    5000.000   \n",
       "mean      1.908    56.450      38.251          6.655     7.475      12.915   \n",
       "std       0.810    19.093      18.225          9.641     5.157       6.469   \n",
       "min       1.000     1.379     -10.054          3.000     1.000       1.000   \n",
       "25%       1.000    41.906      24.427          3.000     4.000       9.000   \n",
       "50%       2.000    52.921      34.071          6.000     6.000      12.000   \n",
       "75%       2.000    66.285      47.496          9.000    10.000      17.000   \n",
       "max       6.000   223.454     303.071        620.000    46.000      99.000   \n",
       "\n",
       "       HouseYear  Ecology_1  Social_1   Social_2  Social_3  Healthcare_1  \\\n",
       "count   5000.000   5000.000  5000.000   5000.000  5000.000      5000.000   \n",
       "mean    1984.393      0.120    24.934   5406.900     8.263      1029.396   \n",
       "std       18.573      0.120    17.532   4026.615    23.864       766.595   \n",
       "min     1908.000      0.000     0.000    168.000     0.000         0.000   \n",
       "25%     1973.000      0.020     6.000   1564.000     0.000       810.000   \n",
       "50%     1977.000      0.072    25.000   5285.000     2.000       900.000   \n",
       "75%     2000.000      0.196    36.000   7287.000     5.000       990.000   \n",
       "max     2020.000      0.522    74.000  19083.000   141.000      4849.000   \n",
       "\n",
       "       Helthcare_2   Shops_1  Ecology_2_bin  Ecology_3_bin  Shops_2_bin  \\\n",
       "count     5000.000  5000.000       5000.000        5000.00     5000.000   \n",
       "mean         1.319     4.243          0.990           0.97        0.918   \n",
       "std          1.480     4.777          0.098           0.17        0.275   \n",
       "min          0.000     0.000          0.000           0.00        0.000   \n",
       "25%          0.000     1.000          1.000           1.00        1.000   \n",
       "50%          1.000     3.000          1.000           1.00        1.000   \n",
       "75%          2.000     6.000          1.000           1.00        1.000   \n",
       "max          6.000    23.000          1.000           1.00        1.000   \n",
       "\n",
       "       DistrictSize  IsDistrictLarge   Price  \n",
       "count      5000.000         5000.000  5000.0  \n",
       "mean        115.537            0.325     0.0  \n",
       "std         127.382            0.468     0.0  \n",
       "min           1.000            0.000     0.0  \n",
       "25%          27.000            0.000     0.0  \n",
       "50%          49.000            0.000     0.0  \n",
       "75%         257.000            1.000     0.0  \n",
       "max         391.000            1.000     0.0  "
      ]
     },
     "execution_count": 77,
     "metadata": {},
     "output_type": "execute_result"
    }
   ],
   "source": [
    "test_df.describe()"
   ]
  },
  {
   "cell_type": "code",
   "execution_count": 78,
   "metadata": {},
   "outputs": [],
   "source": [
    "y_final_pred = rf_model.predict(X_final)\n",
    "d = {'Id': test_df['Id'], 'Price': y_final_pred}\n",
    "pred = pd.DataFrame(data=d)\n",
    "pred.describe()\n",
    "pred.to_csv('pred1.csv', index=False)"
   ]
  }
 ],
 "metadata": {
  "kernelspec": {
   "display_name": "Python 3",
   "language": "python",
   "name": "python3"
  },
  "language_info": {
   "codemirror_mode": {
    "name": "ipython",
    "version": 3
   },
   "file_extension": ".py",
   "mimetype": "text/x-python",
   "name": "python",
   "nbconvert_exporter": "python",
   "pygments_lexer": "ipython3",
   "version": "3.7.4"
  }
 },
 "nbformat": 4,
 "nbformat_minor": 2
}
